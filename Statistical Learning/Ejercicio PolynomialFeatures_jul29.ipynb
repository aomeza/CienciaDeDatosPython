{
 "cells": [
  {
   "cell_type": "code",
   "execution_count": 6,
   "metadata": {},
   "outputs": [],
   "source": [
    "import numpy as np\n",
    "from sklearn.preprocessing import PolynomialFeatures"
   ]
  },
  {
   "cell_type": "markdown",
   "metadata": {},
   "source": [
    "Para 1 variable y grado 1"
   ]
  },
  {
   "cell_type": "code",
   "execution_count": 15,
   "metadata": {},
   "outputs": [
    {
     "data": {
      "text/plain": [
       "array([[1., 0.]])"
      ]
     },
     "execution_count": 15,
     "metadata": {},
     "output_type": "execute_result"
    }
   ],
   "source": [
    "X = np.arange(1).reshape(1, 1)\n",
    "X\n",
    "poly = PolynomialFeatures(1)\n",
    "poly.fit_transform(X)"
   ]
  },
  {
   "cell_type": "markdown",
   "metadata": {},
   "source": [
    "Para 2 variables y grado 2"
   ]
  },
  {
   "cell_type": "code",
   "execution_count": 9,
   "metadata": {},
   "outputs": [
    {
     "data": {
      "text/plain": [
       "array([[1., 0., 1., 0., 0., 1.]])"
      ]
     },
     "execution_count": 9,
     "metadata": {},
     "output_type": "execute_result"
    }
   ],
   "source": [
    "X = np.arange(2).reshape(1, 2)\n",
    "X\n",
    "poly = PolynomialFeatures(2)\n",
    "poly.fit_transform(X)"
   ]
  },
  {
   "cell_type": "markdown",
   "metadata": {},
   "source": [
    "Para 2 variables y grado 3"
   ]
  },
  {
   "cell_type": "code",
   "execution_count": 10,
   "metadata": {},
   "outputs": [
    {
     "data": {
      "text/plain": [
       "array([[1., 0., 1., 0., 0., 1., 0., 0., 0., 1.]])"
      ]
     },
     "execution_count": 10,
     "metadata": {},
     "output_type": "execute_result"
    }
   ],
   "source": [
    "X = np.arange(2).reshape(1, 2)\n",
    "X\n",
    "poly = PolynomialFeatures(3)\n",
    "poly.fit_transform(X)"
   ]
  },
  {
   "cell_type": "markdown",
   "metadata": {},
   "source": [
    "Para 3 variables y grado 1"
   ]
  },
  {
   "cell_type": "code",
   "execution_count": 12,
   "metadata": {},
   "outputs": [
    {
     "data": {
      "text/plain": [
       "array([[1., 0., 1., 2.]])"
      ]
     },
     "execution_count": 12,
     "metadata": {},
     "output_type": "execute_result"
    }
   ],
   "source": [
    "X = np.arange(3).reshape(1, 3)\n",
    "X\n",
    "poly = PolynomialFeatures(1)\n",
    "poly.fit_transform(X)"
   ]
  },
  {
   "cell_type": "markdown",
   "metadata": {},
   "source": [
    "Para 3 variables y grado 2"
   ]
  },
  {
   "cell_type": "code",
   "execution_count": 13,
   "metadata": {},
   "outputs": [
    {
     "data": {
      "text/plain": [
       "array([[1., 0., 1., 2., 0., 0., 0., 1., 2., 4.]])"
      ]
     },
     "execution_count": 13,
     "metadata": {},
     "output_type": "execute_result"
    }
   ],
   "source": [
    "X = np.arange(3).reshape(1, 3)\n",
    "X\n",
    "poly = PolynomialFeatures(2)\n",
    "poly.fit_transform(X)"
   ]
  },
  {
   "cell_type": "markdown",
   "metadata": {},
   "source": [
    "Para 3 variables y grado 3"
   ]
  },
  {
   "cell_type": "code",
   "execution_count": 14,
   "metadata": {},
   "outputs": [
    {
     "data": {
      "text/plain": [
       "array([[1., 0., 1., 2., 0., 0., 0., 1., 2., 4., 0., 0., 0., 0., 0., 0.,\n",
       "        1., 2., 4., 8.]])"
      ]
     },
     "execution_count": 14,
     "metadata": {},
     "output_type": "execute_result"
    }
   ],
   "source": [
    "X = np.arange(3).reshape(1, 3)\n",
    "X\n",
    "poly = PolynomialFeatures(3)\n",
    "poly.fit_transform(X)"
   ]
  },
  {
   "cell_type": "markdown",
   "metadata": {},
   "source": [
    "Para 5 variables, grado 5  (exagerando un poco la cantidad)"
   ]
  },
  {
   "cell_type": "code",
   "execution_count": 18,
   "metadata": {},
   "outputs": [
    {
     "data": {
      "text/plain": [
       "array([[1.000e+00, 0.000e+00, 1.000e+00, 2.000e+00, 3.000e+00, 4.000e+00,\n",
       "        0.000e+00, 0.000e+00, 0.000e+00, 0.000e+00, 0.000e+00, 1.000e+00,\n",
       "        2.000e+00, 3.000e+00, 4.000e+00, 4.000e+00, 6.000e+00, 8.000e+00,\n",
       "        9.000e+00, 1.200e+01, 1.600e+01, 0.000e+00, 0.000e+00, 0.000e+00,\n",
       "        0.000e+00, 0.000e+00, 0.000e+00, 0.000e+00, 0.000e+00, 0.000e+00,\n",
       "        0.000e+00, 0.000e+00, 0.000e+00, 0.000e+00, 0.000e+00, 0.000e+00,\n",
       "        1.000e+00, 2.000e+00, 3.000e+00, 4.000e+00, 4.000e+00, 6.000e+00,\n",
       "        8.000e+00, 9.000e+00, 1.200e+01, 1.600e+01, 8.000e+00, 1.200e+01,\n",
       "        1.600e+01, 1.800e+01, 2.400e+01, 3.200e+01, 2.700e+01, 3.600e+01,\n",
       "        4.800e+01, 6.400e+01, 0.000e+00, 0.000e+00, 0.000e+00, 0.000e+00,\n",
       "        0.000e+00, 0.000e+00, 0.000e+00, 0.000e+00, 0.000e+00, 0.000e+00,\n",
       "        0.000e+00, 0.000e+00, 0.000e+00, 0.000e+00, 0.000e+00, 0.000e+00,\n",
       "        0.000e+00, 0.000e+00, 0.000e+00, 0.000e+00, 0.000e+00, 0.000e+00,\n",
       "        0.000e+00, 0.000e+00, 0.000e+00, 0.000e+00, 0.000e+00, 0.000e+00,\n",
       "        0.000e+00, 0.000e+00, 0.000e+00, 0.000e+00, 0.000e+00, 0.000e+00,\n",
       "        0.000e+00, 1.000e+00, 2.000e+00, 3.000e+00, 4.000e+00, 4.000e+00,\n",
       "        6.000e+00, 8.000e+00, 9.000e+00, 1.200e+01, 1.600e+01, 8.000e+00,\n",
       "        1.200e+01, 1.600e+01, 1.800e+01, 2.400e+01, 3.200e+01, 2.700e+01,\n",
       "        3.600e+01, 4.800e+01, 6.400e+01, 1.600e+01, 2.400e+01, 3.200e+01,\n",
       "        3.600e+01, 4.800e+01, 6.400e+01, 5.400e+01, 7.200e+01, 9.600e+01,\n",
       "        1.280e+02, 8.100e+01, 1.080e+02, 1.440e+02, 1.920e+02, 2.560e+02,\n",
       "        0.000e+00, 0.000e+00, 0.000e+00, 0.000e+00, 0.000e+00, 0.000e+00,\n",
       "        0.000e+00, 0.000e+00, 0.000e+00, 0.000e+00, 0.000e+00, 0.000e+00,\n",
       "        0.000e+00, 0.000e+00, 0.000e+00, 0.000e+00, 0.000e+00, 0.000e+00,\n",
       "        0.000e+00, 0.000e+00, 0.000e+00, 0.000e+00, 0.000e+00, 0.000e+00,\n",
       "        0.000e+00, 0.000e+00, 0.000e+00, 0.000e+00, 0.000e+00, 0.000e+00,\n",
       "        0.000e+00, 0.000e+00, 0.000e+00, 0.000e+00, 0.000e+00, 0.000e+00,\n",
       "        0.000e+00, 0.000e+00, 0.000e+00, 0.000e+00, 0.000e+00, 0.000e+00,\n",
       "        0.000e+00, 0.000e+00, 0.000e+00, 0.000e+00, 0.000e+00, 0.000e+00,\n",
       "        0.000e+00, 0.000e+00, 0.000e+00, 0.000e+00, 0.000e+00, 0.000e+00,\n",
       "        0.000e+00, 0.000e+00, 0.000e+00, 0.000e+00, 0.000e+00, 0.000e+00,\n",
       "        0.000e+00, 0.000e+00, 0.000e+00, 0.000e+00, 0.000e+00, 0.000e+00,\n",
       "        0.000e+00, 0.000e+00, 0.000e+00, 0.000e+00, 1.000e+00, 2.000e+00,\n",
       "        3.000e+00, 4.000e+00, 4.000e+00, 6.000e+00, 8.000e+00, 9.000e+00,\n",
       "        1.200e+01, 1.600e+01, 8.000e+00, 1.200e+01, 1.600e+01, 1.800e+01,\n",
       "        2.400e+01, 3.200e+01, 2.700e+01, 3.600e+01, 4.800e+01, 6.400e+01,\n",
       "        1.600e+01, 2.400e+01, 3.200e+01, 3.600e+01, 4.800e+01, 6.400e+01,\n",
       "        5.400e+01, 7.200e+01, 9.600e+01, 1.280e+02, 8.100e+01, 1.080e+02,\n",
       "        1.440e+02, 1.920e+02, 2.560e+02, 3.200e+01, 4.800e+01, 6.400e+01,\n",
       "        7.200e+01, 9.600e+01, 1.280e+02, 1.080e+02, 1.440e+02, 1.920e+02,\n",
       "        2.560e+02, 1.620e+02, 2.160e+02, 2.880e+02, 3.840e+02, 5.120e+02,\n",
       "        2.430e+02, 3.240e+02, 4.320e+02, 5.760e+02, 7.680e+02, 1.024e+03]])"
      ]
     },
     "execution_count": 18,
     "metadata": {},
     "output_type": "execute_result"
    }
   ],
   "source": [
    "X = np.arange(5).reshape(1, 5)\n",
    "X\n",
    "poly = PolynomialFeatures(5)\n",
    "poly.fit_transform(X)"
   ]
  },
  {
   "cell_type": "markdown",
   "metadata": {},
   "source": [
    "Podemos ver que requiere un número exagerado de combinaciones dentro del polinomio, lo cuál hará que el modelo sea mucho más lento"
   ]
  },
  {
   "cell_type": "markdown",
   "metadata": {},
   "source": [
    "### **Conclusiones:**\n",
    "\n",
    "Se observó que mientras más se incrementa el número de variables y grado de polinomio, el volumen espacial crece exponencialmente, lo cual perjudica a trabajar con estos polinomios, ya que así como crece el volumen espacial, de igual forma se necesita que crezca la cantidad de datos.  Cuantas más combinaciones de variables dentro del polinomio mayor probabilidad de tener información redundante existe, lo cual es perjudicial cuando se trabaja con modelos de predicción.  Entre mayor sea el número de características en un polinomio, mayor será el tiempo de procesamiento que tomará su análisis computacional."
   ]
  },
  {
   "cell_type": "code",
   "execution_count": null,
   "metadata": {},
   "outputs": [],
   "source": []
  }
 ],
 "metadata": {
  "kernelspec": {
   "display_name": "Python 3",
   "language": "python",
   "name": "python3"
  },
  "language_info": {
   "codemirror_mode": {
    "name": "ipython",
    "version": 3
   },
   "file_extension": ".py",
   "mimetype": "text/x-python",
   "name": "python",
   "nbconvert_exporter": "python",
   "pygments_lexer": "ipython3",
   "version": "3.7.3"
  }
 },
 "nbformat": 4,
 "nbformat_minor": 2
}
