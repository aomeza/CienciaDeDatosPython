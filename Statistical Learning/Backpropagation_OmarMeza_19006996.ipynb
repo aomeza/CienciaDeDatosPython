{
 "cells": [
  {
   "cell_type": "markdown",
   "metadata": {},
   "source": [
    "# Backpropagation XOR\n",
    "\n",
    "Name: Axel Omar Meza Arrecis\n",
    "\n",
    "ID: 19006996"
   ]
  },
  {
   "cell_type": "code",
   "execution_count": 62,
   "metadata": {},
   "outputs": [],
   "source": [
    "import numpy as np "
   ]
  },
  {
   "cell_type": "code",
   "execution_count": 63,
   "metadata": {},
   "outputs": [],
   "source": [
    "# sigmoid function\n",
    "def sigmoid (x):\n",
    "    return 1/(1 + np.exp(-x))\n",
    "\n",
    "# derivative of sigmoid function\n",
    "def sigmoid_derivative(x):\n",
    "    return x * (1 - x)"
   ]
  },
  {
   "cell_type": "code",
   "execution_count": 64,
   "metadata": {},
   "outputs": [],
   "source": [
    "# XOR input x1, x2.  And result of x1 xor x2\n",
    "X = np.array([[0,0]\n",
    "             ,[0,1]\n",
    "             ,[1,0]\n",
    "             ,[1,1]])\n",
    "\n",
    "# Output for XOR function\n",
    "Y = np.array([[0]\n",
    "             ,[1]\n",
    "             ,[1]\n",
    "             ,[0]])\n",
    "\n",
    "# Randomly initialize weights and biases\n",
    "W1 = np.random.normal(size=(2,2))\n",
    "W2 = np.random.normal(size=(2,1))\n",
    "b1 = np.random.normal(size=(1,2))\n",
    "b2 = np.random.normal(size=(1,1))"
   ]
  },
  {
   "cell_type": "code",
   "execution_count": 70,
   "metadata": {},
   "outputs": [],
   "source": [
    "# Set epochs and learning rate, and then train it\n",
    "epochs = 5000\n",
    "learning_rate = 0.5\n",
    "\n",
    "for e in range(epochs):\n",
    "    # Forward propagation\n",
    "    h1_activation = np.dot(X,W1)\n",
    "    h1_activation = h1_activation + b1\n",
    "    h1_output = sigmoid(h1_activation)\n",
    "\n",
    "    out_layer_act = np.dot(h1_output,W2)\n",
    "    out_layer_act = out_layer_act + b2\n",
    "    y_hat = sigmoid(out_layer_act)\n",
    "\n",
    "    # Backpropagation\n",
    "    err = Y - y_hat\n",
    "    d_y_hat = err * sigmoid_derivative(y_hat)\n",
    "\n",
    "    err_h1_layer = d_y_hat.dot(W2.T)\n",
    "    derivative_h1 = err_h1_layer * sigmoid_derivative(h1_output)\n",
    "\n",
    "    # Updating Weights and Biases\n",
    "    W2 = W2 + h1_output.T.dot(d_y_hat) * learning_rate\n",
    "    b2 = b2 + np.sum(d_y_hat,axis=0,keepdims=True) * learning_rate\n",
    "    W1 = W1 + X.T.dot(derivative_h1) * learning_rate\n",
    "    b1 = b1 + np.sum(derivative_h1, axis=0, keepdims=True) * learning_rate\n"
   ]
  },
  {
   "cell_type": "code",
   "execution_count": 71,
   "metadata": {},
   "outputs": [
    {
     "name": "stdout",
     "output_type": "stream",
     "text": [
      "Hidden Layer: \n",
      "\n",
      "\tWeights:  [-6.23813715 -5.99824524] [6.39835651 5.83129011]\n",
      "\tBias:  [ 3.14420692 -3.14770843]\n",
      "\n",
      "\n",
      "Output Layer: \n",
      "\n",
      "\tWeights:  [-9.69938337] [10.11852502]\n",
      "\tBias:  [4.58433932]\n",
      "\n",
      "Result of the algorithm:\n",
      "\n",
      "[0 0]  -->  [0.01341959]\n",
      "[0 1]  -->  [0.98734627]\n",
      "[1 0]  -->  [0.98470525]\n",
      "[1 1]  -->  [0.01193131]\n"
     ]
    }
   ],
   "source": [
    "print(\"Hidden Layer: \\n\")\n",
    "print(\"\\tWeights: \", *W1)\n",
    "print(\"\\tBias: \", *b1)\n",
    "\n",
    "print(\"\\n\\nOutput Layer: \\n\")\n",
    "print(\"\\tWeights: \", *W2)\n",
    "print(\"\\tBias: \", *b2)\n",
    "\n",
    "print(\"\\nResult of the algorithm:\\n\")\n",
    "\n",
    "for i in range(X.shape[0]):\n",
    "    print(X[i], \" --> \", y_hat[i])"
   ]
  },
  {
   "cell_type": "code",
   "execution_count": null,
   "metadata": {},
   "outputs": [],
   "source": []
  }
 ],
 "metadata": {
  "kernelspec": {
   "display_name": "Python 3",
   "language": "python",
   "name": "python3"
  },
  "language_info": {
   "codemirror_mode": {
    "name": "ipython",
    "version": 3
   },
   "file_extension": ".py",
   "mimetype": "text/x-python",
   "name": "python",
   "nbconvert_exporter": "python",
   "pygments_lexer": "ipython3",
   "version": "3.7.3"
  }
 },
 "nbformat": 4,
 "nbformat_minor": 2
}
