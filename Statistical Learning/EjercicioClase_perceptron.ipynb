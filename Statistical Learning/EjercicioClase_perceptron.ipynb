{
 "cells": [
  {
   "cell_type": "markdown",
   "metadata": {},
   "source": [
    "#   PERCEPTRONS"
   ]
  },
  {
   "cell_type": "code",
   "execution_count": 22,
   "metadata": {},
   "outputs": [],
   "source": [
    "import numpy as np"
   ]
  },
  {
   "cell_type": "code",
   "execution_count": 3,
   "metadata": {},
   "outputs": [],
   "source": [
    "def activation(n):\n",
    "    out = 0\n",
    "    if n >= 0:\n",
    "        out = 1\n",
    "    return out"
   ]
  },
  {
   "cell_type": "code",
   "execution_count": 4,
   "metadata": {},
   "outputs": [],
   "source": [
    "def neural_network(X,W):\n",
    "    return np.matmul(X,W)"
   ]
  },
  {
   "cell_type": "markdown",
   "metadata": {},
   "source": [
    "# OR "
   ]
  },
  {
   "cell_type": "code",
   "execution_count": 5,
   "metadata": {},
   "outputs": [],
   "source": [
    "# OR\n",
    "def calcOR(x1, x2):\n",
    "    bias = 1\n",
    "    W = np.array([[1],[1],[-1]])\n",
    "\n",
    "    prediction = activation(neural_network(np.array([x1, x2, bias]), W))\n",
    "    return(prediction)\n"
   ]
  },
  {
   "cell_type": "code",
   "execution_count": 19,
   "metadata": {},
   "outputs": [
    {
     "name": "stdout",
     "output_type": "stream",
     "text": [
      "x1=0 OR x2=0 -> 0\n",
      "x1=0 OR x2=1 -> 1\n",
      "x1=1 OR x2=0 -> 1\n",
      "x1=1 OR x2=1 -> 1\n"
     ]
    }
   ],
   "source": [
    "print(\"x1=0 OR x2=0 ->\", calcOR(0,0))\n",
    "print(\"x1=0 OR x2=1 ->\", calcOR(0,1))\n",
    "print(\"x1=1 OR x2=0 ->\", calcOR(1,0))\n",
    "print(\"x1=1 OR x2=1 ->\", calcOR(1,1))"
   ]
  },
  {
   "cell_type": "markdown",
   "metadata": {},
   "source": [
    "# AND "
   ]
  },
  {
   "cell_type": "code",
   "execution_count": 6,
   "metadata": {},
   "outputs": [],
   "source": [
    "# AND\n",
    "def calcAND(x1, x2):\n",
    "    bias = 1\n",
    "    W = np.array([[0.5],[0.5],[-1]])\n",
    "\n",
    "    prediction = activation(neural_network(np.array([x1, x2, bias]), W))\n",
    "    return(prediction)"
   ]
  },
  {
   "cell_type": "code",
   "execution_count": 20,
   "metadata": {},
   "outputs": [
    {
     "name": "stdout",
     "output_type": "stream",
     "text": [
      "x1=0 AND x2=0 -> 0\n",
      "x1=0 AND x2=1 -> 0\n",
      "x1=1 AND x2=0 -> 0\n",
      "x1=1 AND x2=1 -> 1\n"
     ]
    }
   ],
   "source": [
    "print(\"x1=0 AND x2=0 ->\", calcAND(0,0))\n",
    "print(\"x1=0 AND x2=1 ->\", calcAND(0,1))\n",
    "print(\"x1=1 AND x2=0 ->\", calcAND(1,0))\n",
    "print(\"x1=1 AND x2=1 ->\", calcAND(1,1))"
   ]
  },
  {
   "cell_type": "markdown",
   "metadata": {},
   "source": [
    "# NOT"
   ]
  },
  {
   "cell_type": "code",
   "execution_count": 7,
   "metadata": {},
   "outputs": [],
   "source": [
    "# NOT\n",
    "def calcNOT(x1):\n",
    "    bias = 1\n",
    "    W = np.array([[-1],[0.5]])\n",
    "\n",
    "    prediction = activation(neural_network(np.array([x1, bias]), W))\n",
    "    return prediction\n"
   ]
  },
  {
   "cell_type": "code",
   "execution_count": 17,
   "metadata": {},
   "outputs": [
    {
     "name": "stdout",
     "output_type": "stream",
     "text": [
      "x1=0 -> 1\n",
      "x1=1 -> 0\n"
     ]
    }
   ],
   "source": [
    "print(\"x1=0 ->\", calcNOT(0))\n",
    "print(\"x1=1 ->\", calcNOT(1))"
   ]
  },
  {
   "cell_type": "markdown",
   "metadata": {},
   "source": [
    "# XOR"
   ]
  },
  {
   "cell_type": "code",
   "execution_count": 8,
   "metadata": {},
   "outputs": [],
   "source": [
    "# XOR\n",
    "def calcXOR(x1,x2):\n",
    "    out = calcAND(calcNOT(calcAND(x1, x2)), calcOR(x1,x2))\n",
    "    return out"
   ]
  },
  {
   "cell_type": "code",
   "execution_count": 21,
   "metadata": {},
   "outputs": [
    {
     "name": "stdout",
     "output_type": "stream",
     "text": [
      "x1=0 XOR x2=0 -> 0\n",
      "x1=0 XOR x2=1 -> 1\n",
      "x1=1 XOR x2=0 -> 1\n",
      "x1=1 XOR x2=1 -> 0\n"
     ]
    }
   ],
   "source": [
    "print(\"x1=0 XOR x2=0 ->\", calcXOR(0,0))\n",
    "print(\"x1=0 XOR x2=1 ->\", calcXOR(0,1))\n",
    "print(\"x1=1 XOR x2=0 ->\", calcXOR(1,0))\n",
    "print(\"x1=1 XOR x2=1 ->\", calcXOR(1,1))"
   ]
  }
 ],
 "metadata": {
  "kernelspec": {
   "display_name": "Python 3",
   "language": "python",
   "name": "python3"
  }
 },
 "nbformat": 4,
 "nbformat_minor": 2
}
