{
 "cells": [
  {
   "cell_type": "markdown",
   "metadata": {},
   "source": [
    "####  Tarea: XOR forward propagation\n",
    "####  Curso: Statistical Learning II\n",
    "####  Nombre: Axel Omar Meza Arrecis\n",
    "####  Carné: 19006996"
   ]
  },
  {
   "cell_type": "code",
   "execution_count": 287,
   "metadata": {},
   "outputs": [],
   "source": [
    "import numpy as np\n",
    "import matplotlib.pyplot as plt\n",
    "import pandas as pd"
   ]
  },
  {
   "cell_type": "markdown",
   "metadata": {},
   "source": [
    "### Define Sigmoid function"
   ]
  },
  {
   "cell_type": "code",
   "execution_count": 70,
   "metadata": {},
   "outputs": [],
   "source": [
    "def sigmoid(x):\n",
    "  return(1 / (1 + np.exp(-x)))"
   ]
  },
  {
   "cell_type": "markdown",
   "metadata": {},
   "source": [
    "### Define inputs (X) and Weigths (W1, W2)"
   ]
  },
  {
   "cell_type": "code",
   "execution_count": 101,
   "metadata": {},
   "outputs": [
    {
     "data": {
      "text/plain": [
       "array([[0., 0., 1.],\n",
       "       [0., 1., 1.],\n",
       "       [1., 0., 1.],\n",
       "       [1., 1., 1.]])"
      ]
     },
     "execution_count": 101,
     "metadata": {},
     "output_type": "execute_result"
    }
   ],
   "source": [
    "# Define inputs (X) as the combinations of 0/1 for Xor\n",
    "X = X_orig = np.array([[0,0],[0,1],[1,0],[1,1]])\n",
    "\n",
    "# Add a column of 1's at the end of the X matrix, bias.\n",
    "X = np.c_[X,np.ones(X.shape[0])]\n",
    "X"
   ]
  },
  {
   "cell_type": "code",
   "execution_count": 72,
   "metadata": {},
   "outputs": [
    {
     "data": {
      "text/plain": [
       "array([[ 20, -20],\n",
       "       [ 20, -20],\n",
       "       [-10,  30]])"
      ]
     },
     "execution_count": 72,
     "metadata": {},
     "output_type": "execute_result"
    }
   ],
   "source": [
    "# Define Weights of hidden layer\n",
    "\n",
    "W1 = np.array([[20,-20],[20,-20],[-10,30]])\n",
    "W1"
   ]
  },
  {
   "cell_type": "code",
   "execution_count": 89,
   "metadata": {},
   "outputs": [
    {
     "data": {
      "text/plain": [
       "array([[ 20],\n",
       "       [ 20],\n",
       "       [-30]])"
      ]
     },
     "execution_count": 89,
     "metadata": {},
     "output_type": "execute_result"
    }
   ],
   "source": [
    "# Define Weights of output layer\n",
    "\n",
    "W2 = np.array([[20],[20],[-30]])\n",
    "W2"
   ]
  },
  {
   "cell_type": "markdown",
   "metadata": {},
   "source": [
    "### Calculate H"
   ]
  },
  {
   "cell_type": "code",
   "execution_count": 157,
   "metadata": {},
   "outputs": [
    {
     "name": "stdout",
     "output_type": "stream",
     "text": [
      "Values for H:\n",
      "\n",
      " [[-10.  30.]\n",
      " [ 10.  10.]\n",
      " [ 10.  10.]\n",
      " [ 30. -10.]]\n",
      "\n",
      "\n",
      "Values for sigmoid(H):\n",
      "\n",
      " [[4.53978687e-05 1.00000000e+00 1.00000000e+00]\n",
      " [9.99954602e-01 9.99954602e-01 1.00000000e+00]\n",
      " [9.99954602e-01 9.99954602e-01 1.00000000e+00]\n",
      " [1.00000000e+00 4.53978687e-05 1.00000000e+00]]\n"
     ]
    }
   ],
   "source": [
    "# Get \"H\" values (hidden layer) after applying Sigmoid\n",
    "H = H_orig = np.matmul(X, W1)\n",
    "H = sigmoid(H)\n",
    "\n",
    "# Add a column of 1's at the end of the matrix, bias.\n",
    "H = np.c_[H, np.ones(H.shape[0])]\n",
    "print(\"Values for H:\\n\\n\", H_orig)\n",
    "print(\"\\n\\nValues for sigmoid(H):\\n\\n\", H)"
   ]
  },
  {
   "cell_type": "code",
   "execution_count": 92,
   "metadata": {},
   "outputs": [
    {
     "name": "stdout",
     "output_type": "stream",
     "text": [
      "(4, 3)\n",
      "(3, 1)\n"
     ]
    }
   ],
   "source": [
    "# Verify shapes to see if matmul will work\n",
    "print(H.shape)\n",
    "print(W2.shape)"
   ]
  },
  {
   "cell_type": "code",
   "execution_count": 95,
   "metadata": {},
   "outputs": [
    {
     "name": "stdout",
     "output_type": "stream",
     "text": [
      "The output obtained from the forward propagation: \n",
      " [[4.54391049e-05]\n",
      " [9.99954520e-01]\n",
      " [9.99954520e-01]\n",
      " [4.54391049e-05]]\n"
     ]
    }
   ],
   "source": [
    "# Get output values after applying Sigmoid\n",
    "\n",
    "Output = sigmoid(np.matmul(H, W2))\n",
    "\n",
    "print(\"The output obtained from the forward propagation: \\n\", Output)"
   ]
  },
  {
   "cell_type": "markdown",
   "metadata": {},
   "source": [
    "#### This output is the probability of y=1, P(y=1)"
   ]
  },
  {
   "cell_type": "markdown",
   "metadata": {},
   "source": [
    "# Final result for XOR"
   ]
  },
  {
   "cell_type": "markdown",
   "metadata": {},
   "source": [
    "For this exercise we will round the Output values to get the 0/1 output of the XOR"
   ]
  },
  {
   "cell_type": "code",
   "execution_count": 93,
   "metadata": {},
   "outputs": [
    {
     "name": "stdout",
     "output_type": "stream",
     "text": [
      "Values of the output for XOR in a 0/1 format:\n",
      " [[0.]\n",
      " [1.]\n",
      " [1.]\n",
      " [0.]]\n"
     ]
    }
   ],
   "source": [
    "print(\"Values of the output for XOR in a 0/1 format:\\n\", np.round(Output))"
   ]
  },
  {
   "cell_type": "code",
   "execution_count": 145,
   "metadata": {},
   "outputs": [],
   "source": [
    "result=np.round(np.c_[X_orig, Output])"
   ]
  },
  {
   "cell_type": "code",
   "execution_count": 286,
   "metadata": {},
   "outputs": [
    {
     "data": {
      "text/html": [
       "<div>\n",
       "<style scoped>\n",
       "    .dataframe tbody tr th:only-of-type {\n",
       "        vertical-align: middle;\n",
       "    }\n",
       "\n",
       "    .dataframe tbody tr th {\n",
       "        vertical-align: top;\n",
       "    }\n",
       "\n",
       "    .dataframe thead th {\n",
       "        text-align: right;\n",
       "    }\n",
       "</style>\n",
       "<table border=\"1\" class=\"dataframe\">\n",
       "  <thead>\n",
       "    <tr style=\"text-align: right;\">\n",
       "      <th></th>\n",
       "      <th>x1</th>\n",
       "      <th>x2</th>\n",
       "      <th>XOR</th>\n",
       "    </tr>\n",
       "  </thead>\n",
       "  <tbody>\n",
       "    <tr>\n",
       "      <th>0</th>\n",
       "      <td>0</td>\n",
       "      <td>0</td>\n",
       "      <td>0</td>\n",
       "    </tr>\n",
       "    <tr>\n",
       "      <th>1</th>\n",
       "      <td>0</td>\n",
       "      <td>1</td>\n",
       "      <td>1</td>\n",
       "    </tr>\n",
       "    <tr>\n",
       "      <th>2</th>\n",
       "      <td>1</td>\n",
       "      <td>0</td>\n",
       "      <td>1</td>\n",
       "    </tr>\n",
       "    <tr>\n",
       "      <th>3</th>\n",
       "      <td>1</td>\n",
       "      <td>1</td>\n",
       "      <td>0</td>\n",
       "    </tr>\n",
       "  </tbody>\n",
       "</table>\n",
       "</div>"
      ],
      "text/plain": [
       "   x1  x2  XOR\n",
       "0   0   0    0\n",
       "1   0   1    1\n",
       "2   1   0    1\n",
       "3   1   1    0"
      ]
     },
     "execution_count": 286,
     "metadata": {},
     "output_type": "execute_result"
    }
   ],
   "source": [
    "pd.DataFrame(result.astype(int), index=[0,1,2,3], columns=['x1','x2', 'XOR'])"
   ]
  },
  {
   "cell_type": "markdown",
   "metadata": {},
   "source": [
    "### Scatter for Sigmoid(H)"
   ]
  },
  {
   "cell_type": "code",
   "execution_count": 282,
   "metadata": {},
   "outputs": [
    {
     "data": {
      "image/png": "[encoded data removed]",
      "text/plain": [
       "<Figure size 432x288 with 1 Axes>"
      ]
     },
     "metadata": {
      "needs_background": "light"
     },
     "output_type": "display_data"
    }
   ],
   "source": [
    "zero1 = plt.scatter(H[0,0], H[0,1], marker='o', color='red', label='0')\n",
    "zero2 = plt.scatter(H[3,0], H[3,1], marker='o', color='red', label='0')\n",
    "ones = plt.scatter(H[1:2,0], H[1:2,1], marker='x', color='blue', label='1')\n",
    "\n",
    "plt.legend((ones, zero1, zero2),\n",
    "           ('1', '0'),\n",
    "           scatterpoints=1,\n",
    "           loc='lower left',\n",
    "           ncol=3,\n",
    "           fontsize=10,\n",
    "           bbox_to_anchor=(1.0, 0.9))\n",
    "plt.show()"
   ]
  },
  {
   "cell_type": "markdown",
   "metadata": {},
   "source": [
    "### Scatter for H"
   ]
  },
  {
   "cell_type": "code",
   "execution_count": 281,
   "metadata": {},
   "outputs": [
    {
     "data": {
      "image/png": "[encoded data removed]",
      "text/plain": [
       "<Figure size 432x288 with 1 Axes>"
      ]
     },
     "metadata": {
      "needs_background": "light"
     },
     "output_type": "display_data"
    }
   ],
   "source": [
    "zero1 = plt.scatter(H_orig[0,0], H_orig[0,1], marker='o', color='red', label='0')\n",
    "zero2 = plt.scatter(H_orig[3,0], H_orig[3,1], marker='o', color='red', label='0')\n",
    "ones = plt.scatter(H_orig[1:2,0], H_orig[1:2,1], marker='x', color='blue', label='1')\n",
    "\n",
    "plt.legend((ones, zero1, zero2),\n",
    "           ('1', '0'),\n",
    "           scatterpoints=1,\n",
    "           loc='lower left',\n",
    "           ncol=3,\n",
    "           fontsize=10,\n",
    "           bbox_to_anchor=(1.0, 0.9))\n",
    "plt.show()"
   ]
  },
  {
   "cell_type": "markdown",
   "metadata": {},
   "source": [
    "# Conclusiones"
   ]
  },
  {
   "cell_type": "markdown",
   "metadata": {},
   "source": [
    "Al evaluar el resultado intermedio de H se puede observar que la probabilidad que Y=1 está dado por la probabilidad que h1 y h2 (ambos) sea alta, dado que cuando h1 y h2 poseen una probabilidad alta, el resultado de final de XOR será Y=1; por el contrario, si alguno de h1 y h2 tienen una probabilidad baja de ser 1, el resultado final de XOR será Y=0.  Debe mencionarse que el bias es un factor determinante en este cálculo, al restar su valor neutraliza las probabilidad cuando solo h1 o solo h2 tienen un valor alto."
   ]
  }
 ],
 "metadata": {
  "kernelspec": {
   "display_name": "Python 3",
   "language": "python",
   "name": "python3"
  },
  "language_info": {
   "codemirror_mode": {
    "name": "ipython",
    "version": 3
   },
   "file_extension": ".py",
   "mimetype": "text/x-python",
   "name": "python",
   "nbconvert_exporter": "python",
   "pygments_lexer": "ipython3",
   "version": "3.7.3"
  }
 },
 "nbformat": 4,
 "nbformat_minor": 2
}
