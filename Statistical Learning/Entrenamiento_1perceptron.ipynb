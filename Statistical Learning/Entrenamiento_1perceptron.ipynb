{
 "cells": [
  {
   "cell_type": "code",
   "execution_count": 4,
   "metadata": {},
   "outputs": [],
   "source": [
    "#  Version de prueba, por fecha abierta en GES subiré otra después\n",
    "\n",
    "import numpy as np\n",
    "import pandas as pd"
   ]
  },
  {
   "cell_type": "code",
   "execution_count": 97,
   "metadata": {},
   "outputs": [],
   "source": [
    "df = pd.read_csv(\"data.csv\")"
   ]
  },
  {
   "cell_type": "code",
   "execution_count": 98,
   "metadata": {},
   "outputs": [],
   "source": [
    "df_train = df[0:160][:]\n",
    "df_validate = df[161:180][:]\n",
    "df_test = df[181:200][:]"
   ]
  },
  {
   "cell_type": "code",
   "execution_count": 112,
   "metadata": {},
   "outputs": [
    {
     "data": {
      "text/html": [
       "<div>\n",
       "<style scoped>\n",
       "    .dataframe tbody tr th:only-of-type {\n",
       "        vertical-align: middle;\n",
       "    }\n",
       "\n",
       "    .dataframe tbody tr th {\n",
       "        vertical-align: top;\n",
       "    }\n",
       "\n",
       "    .dataframe thead th {\n",
       "        text-align: right;\n",
       "    }\n",
       "</style>\n",
       "<table border=\"1\" class=\"dataframe\">\n",
       "  <thead>\n",
       "    <tr style=\"text-align: right;\">\n",
       "      <th></th>\n",
       "      <th>x1</th>\n",
       "      <th>x2</th>\n",
       "      <th>label</th>\n",
       "    </tr>\n",
       "  </thead>\n",
       "  <tbody>\n",
       "    <tr>\n",
       "      <th>0</th>\n",
       "      <td>12.882292</td>\n",
       "      <td>10.228199</td>\n",
       "      <td>1</td>\n",
       "    </tr>\n",
       "    <tr>\n",
       "      <th>1</th>\n",
       "      <td>12.682271</td>\n",
       "      <td>9.360462</td>\n",
       "      <td>1</td>\n",
       "    </tr>\n",
       "    <tr>\n",
       "      <th>2</th>\n",
       "      <td>12.104981</td>\n",
       "      <td>10.580729</td>\n",
       "      <td>1</td>\n",
       "    </tr>\n",
       "    <tr>\n",
       "      <th>3</th>\n",
       "      <td>12.473947</td>\n",
       "      <td>10.993459</td>\n",
       "      <td>1</td>\n",
       "    </tr>\n",
       "    <tr>\n",
       "      <th>4</th>\n",
       "      <td>11.997386</td>\n",
       "      <td>9.321291</td>\n",
       "      <td>1</td>\n",
       "    </tr>\n",
       "  </tbody>\n",
       "</table>\n",
       "</div>"
      ],
      "text/plain": [
       "          x1         x2  label\n",
       "0  12.882292  10.228199      1\n",
       "1  12.682271   9.360462      1\n",
       "2  12.104981  10.580729      1\n",
       "3  12.473947  10.993459      1\n",
       "4  11.997386   9.321291      1"
      ]
     },
     "execution_count": 112,
     "metadata": {},
     "output_type": "execute_result"
    }
   ],
   "source": [
    "df_train.head()"
   ]
  },
  {
   "cell_type": "code",
   "execution_count": 326,
   "metadata": {},
   "outputs": [
    {
     "name": "stdout",
     "output_type": "stream",
     "text": [
      "0 [[0.65977444 0.25844085]]\n",
      "500 [[ 20.89226377 -20.23720794]]\n",
      "1000 [[ 27.04013939 -25.49127873]]\n",
      "1500 [[ 27.03129921 -30.90162382]]\n",
      "2000 [[ 29.77369185 -29.9178674 ]]\n",
      "2500 [[ 31.02500745 -30.54055065]]\n",
      "3000 [[ 34.03718293 -33.62298701]]\n",
      "3500 [[ 34.92152047 -33.58042519]]\n",
      "4000 [[ 35.06825947 -36.54359144]]\n",
      "4500 [[ 35.20160819 -40.26672914]]\n",
      "5000 [[ 37.26327527 -38.80753687]]\n",
      "5500 [[ 40.1936218 -38.6772084]]\n",
      "6000 [[ 42.26109142 -37.54615543]]\n",
      "6500 [[ 41.33088178 -41.03431408]]\n",
      "7000 [[ 46.15030149 -40.80040243]]\n",
      "7500 [[ 37.42388703 -49.08482868]]\n",
      "8000 [[ 43.62471789 -41.17667422]]\n",
      "8500 [[ 43.02173455 -43.538102  ]]\n",
      "9000 [[ 44.36917813 -41.83401778]]\n",
      "9500 [[ 42.33743777 -45.34578904]]\n",
      "[[ 43.86605795 -43.76950703]]\n"
     ]
    }
   ],
   "source": [
    "# Initialize W randomly\n",
    "W = np.random.rand(1,2)\n",
    "lr = 0.5\n",
    "\n",
    "# Entrenamiento de perceptrón\n",
    "for i in range(10000):\n",
    "    index = int(np.random.rand(1)*160)\n",
    "    sample = df_train[:][index:index+1]\n",
    "\n",
    "    x = np.zeros((1,2))\n",
    "\n",
    "    label = int(sample['label'])\n",
    "    x[0][0] = sample['x1']\n",
    "    x[0][1] = sample['x2']\n",
    "\n",
    "    wx = np.dot(x,W.T)\n",
    "\n",
    "    if label == 1 and wx < 0:\n",
    "        W = W + x * lr\n",
    "\n",
    "    if label == 0 and wx >= 0:\n",
    "        W = W - x * lr\n",
    "\n",
    "    if i % 500 == 0:\n",
    "        print(i,W)\n",
    "print(W)"
   ]
  },
  {
   "cell_type": "code",
   "execution_count": null,
   "metadata": {},
   "outputs": [],
   "source": []
  },
  {
   "cell_type": "code",
   "execution_count": null,
   "metadata": {},
   "outputs": [],
   "source": []
  },
  {
   "cell_type": "code",
   "execution_count": null,
   "metadata": {},
   "outputs": [],
   "source": []
  },
  {
   "cell_type": "code",
   "execution_count": null,
   "metadata": {},
   "outputs": [],
   "source": []
  }
 ],
 "metadata": {
  "kernelspec": {
   "display_name": "Python 3",
   "language": "python",
   "name": "python3"
  },
  "language_info": {
   "codemirror_mode": {
    "name": "ipython",
    "version": 3
   },
   "file_extension": ".py",
   "mimetype": "text/x-python",
   "name": "python",
   "nbconvert_exporter": "python",
   "pygments_lexer": "ipython3",
   "version": "3.7.3"
  }
 },
 "nbformat": 4,
 "nbformat_minor": 2
}
