{
 "cells": [
  {
   "cell_type": "markdown",
   "metadata": {},
   "source": [
    "## Regresion Polinomial & Feature engineering"
   ]
  },
  {
   "cell_type": "code",
   "execution_count": 100,
   "metadata": {},
   "outputs": [],
   "source": [
    "import pandas as pd\n",
    "import numpy as np\n",
    "import matplotlib.pyplot as plt\n",
    "import time\n",
    "import tensorflow as tf"
   ]
  },
  {
   "cell_type": "code",
   "execution_count": 8,
   "metadata": {},
   "outputs": [],
   "source": [
    "data = pd.read_csv('winequality-red.csv')"
   ]
  },
  {
   "cell_type": "markdown",
   "metadata": {},
   "source": [
    "### Red Wine Quality Data\n",
    "\n",
    "Se aplicará regresión para crear un modelo de la calidad de vino en función de características del mismo, siendo 1 el peor vino y 10 el mejor.\n",
    "\n",
    "Variables de entrada:\n",
    "1. fixed acidity \n",
    "2. volatile acidity \n",
    "3. citric acid \n",
    "4. residual sugar \n",
    "5. chlorides \n",
    "6. free sulfur dioxide \n",
    "7. total sulfur dioxide \n",
    "8. density \n",
    "9. pH \n",
    "10. sulphates \n",
    "11. alcohol \n",
    "\n",
    "Varaible a predecir: \n",
    "12. quality (puntuacion  entre 0 y 10) \n",
    "\n"
   ]
  },
  {
   "cell_type": "code",
   "execution_count": 4,
   "metadata": {},
   "outputs": [
    {
     "data": {
      "text/html": [
       "<div>\n",
       "<style scoped>\n",
       "    .dataframe tbody tr th:only-of-type {\n",
       "        vertical-align: middle;\n",
       "    }\n",
       "\n",
       "    .dataframe tbody tr th {\n",
       "        vertical-align: top;\n",
       "    }\n",
       "\n",
       "    .dataframe thead th {\n",
       "        text-align: right;\n",
       "    }\n",
       "</style>\n",
       "<table border=\"1\" class=\"dataframe\">\n",
       "  <thead>\n",
       "    <tr style=\"text-align: right;\">\n",
       "      <th></th>\n",
       "      <th>fixed acidity</th>\n",
       "      <th>volatile acidity</th>\n",
       "      <th>citric acid</th>\n",
       "      <th>residual sugar</th>\n",
       "      <th>chlorides</th>\n",
       "      <th>free sulfur dioxide</th>\n",
       "      <th>total sulfur dioxide</th>\n",
       "      <th>density</th>\n",
       "      <th>pH</th>\n",
       "      <th>sulphates</th>\n",
       "      <th>alcohol</th>\n",
       "      <th>quality</th>\n",
       "    </tr>\n",
       "  </thead>\n",
       "  <tbody>\n",
       "    <tr>\n",
       "      <th>0</th>\n",
       "      <td>7.4</td>\n",
       "      <td>0.70</td>\n",
       "      <td>0.00</td>\n",
       "      <td>1.9</td>\n",
       "      <td>0.076</td>\n",
       "      <td>11.0</td>\n",
       "      <td>34.0</td>\n",
       "      <td>0.9978</td>\n",
       "      <td>3.51</td>\n",
       "      <td>0.56</td>\n",
       "      <td>9.4</td>\n",
       "      <td>5</td>\n",
       "    </tr>\n",
       "    <tr>\n",
       "      <th>1</th>\n",
       "      <td>7.8</td>\n",
       "      <td>0.88</td>\n",
       "      <td>0.00</td>\n",
       "      <td>2.6</td>\n",
       "      <td>0.098</td>\n",
       "      <td>25.0</td>\n",
       "      <td>67.0</td>\n",
       "      <td>0.9968</td>\n",
       "      <td>3.20</td>\n",
       "      <td>0.68</td>\n",
       "      <td>9.8</td>\n",
       "      <td>5</td>\n",
       "    </tr>\n",
       "    <tr>\n",
       "      <th>2</th>\n",
       "      <td>7.8</td>\n",
       "      <td>0.76</td>\n",
       "      <td>0.04</td>\n",
       "      <td>2.3</td>\n",
       "      <td>0.092</td>\n",
       "      <td>15.0</td>\n",
       "      <td>54.0</td>\n",
       "      <td>0.9970</td>\n",
       "      <td>3.26</td>\n",
       "      <td>0.65</td>\n",
       "      <td>9.8</td>\n",
       "      <td>5</td>\n",
       "    </tr>\n",
       "    <tr>\n",
       "      <th>3</th>\n",
       "      <td>11.2</td>\n",
       "      <td>0.28</td>\n",
       "      <td>0.56</td>\n",
       "      <td>1.9</td>\n",
       "      <td>0.075</td>\n",
       "      <td>17.0</td>\n",
       "      <td>60.0</td>\n",
       "      <td>0.9980</td>\n",
       "      <td>3.16</td>\n",
       "      <td>0.58</td>\n",
       "      <td>9.8</td>\n",
       "      <td>6</td>\n",
       "    </tr>\n",
       "    <tr>\n",
       "      <th>4</th>\n",
       "      <td>7.4</td>\n",
       "      <td>0.70</td>\n",
       "      <td>0.00</td>\n",
       "      <td>1.9</td>\n",
       "      <td>0.076</td>\n",
       "      <td>11.0</td>\n",
       "      <td>34.0</td>\n",
       "      <td>0.9978</td>\n",
       "      <td>3.51</td>\n",
       "      <td>0.56</td>\n",
       "      <td>9.4</td>\n",
       "      <td>5</td>\n",
       "    </tr>\n",
       "  </tbody>\n",
       "</table>\n",
       "</div>"
      ],
      "text/plain": [
       "   fixed acidity  volatile acidity  citric acid  residual sugar  chlorides  \\\n",
       "0            7.4              0.70         0.00             1.9      0.076   \n",
       "1            7.8              0.88         0.00             2.6      0.098   \n",
       "2            7.8              0.76         0.04             2.3      0.092   \n",
       "3           11.2              0.28         0.56             1.9      0.075   \n",
       "4            7.4              0.70         0.00             1.9      0.076   \n",
       "\n",
       "   free sulfur dioxide  total sulfur dioxide  density    pH  sulphates  \\\n",
       "0                 11.0                  34.0   0.9978  3.51       0.56   \n",
       "1                 25.0                  67.0   0.9968  3.20       0.68   \n",
       "2                 15.0                  54.0   0.9970  3.26       0.65   \n",
       "3                 17.0                  60.0   0.9980  3.16       0.58   \n",
       "4                 11.0                  34.0   0.9978  3.51       0.56   \n",
       "\n",
       "   alcohol  quality  \n",
       "0      9.4        5  \n",
       "1      9.8        5  \n",
       "2      9.8        5  \n",
       "3      9.8        6  \n",
       "4      9.4        5  "
      ]
     },
     "execution_count": 4,
     "metadata": {},
     "output_type": "execute_result"
    }
   ],
   "source": [
    "data.head()"
   ]
  },
  {
   "cell_type": "markdown",
   "metadata": {},
   "source": [
    "### Instrucciones\n",
    "\n",
    "1. Seleccionar y transformar(generando las combinaciones polinomiales para un polinomio de grado dos o tres a elección) las features que considere que son las mejores para predecir la calidad del vino, utilizar como minimo 2 features. Para seleccionar las features, hacer un analisis exploratorio por ejemplo(pero no limitado a ):  graficando y viendo la forma en que se comportan los datos.\n",
    "\n",
    " Por ejemplo, se tienen las features \"a\" y \"b\" y seleccionamos polinomio de grado 2, hacemos feature engineering para obtener :\n",
    " \n",
    " $[a,b,a^{2},b^{2},ab]$\n",
    " \n",
    " No olvidar el \"bias\" (parámetro multiplicado por 1) ,con lo cual el dataset puede quedar con las columnas:\n",
    " \n",
    " $[1,a,b,a^{2},b^{2},ab]$\n",
    "2. Una vez transformada la data aplicar regresion lineal con las features polinomiales usando Tensorflow.\n",
    "\n",
    "Requisitos adicionales:\n",
    "* Se debe agregar al notebook un screenshot del grafo de tensorboard, simplificando(usando  names , y name_scope como visto en clase).\n",
    "\n",
    "* Se debe generar un directorio de logs de tensorboard para cada corrida/experimento , con cada directorio identificando facilmente la configuración del experimento como visto en clase, por ejemplo para un experimento con learning rate = 0.1 , y polinomio grado 2  crear un directorio: lr=0.1_polinomio_grado=2. (Agregar al notebook un screenshot de estas gráficas)\n",
    "\n",
    "* Concluir en markdown cual es el mejor modelo para este caso basado en la comparativa entre curvas de costo/error en tensorboard."
   ]
  },
  {
   "cell_type": "code",
   "execution_count": 29,
   "metadata": {},
   "outputs": [
    {
     "data": {
      "text/plain": [
       "Index(['fixed acidity', 'volatile acidity', 'citric acid', 'residual sugar',\n",
       "       'chlorides', 'free sulfur dioxide', 'total sulfur dioxide', 'density',\n",
       "       'pH', 'sulphates', 'alcohol', 'quality'],\n",
       "      dtype='object')"
      ]
     },
     "execution_count": 29,
     "metadata": {},
     "output_type": "execute_result"
    }
   ],
   "source": [
    "data.columns"
   ]
  },
  {
   "cell_type": "code",
   "execution_count": 34,
   "metadata": {},
   "outputs": [
    {
     "data": {
      "text/html": [
       "<div>\n",
       "<style scoped>\n",
       "    .dataframe tbody tr th:only-of-type {\n",
       "        vertical-align: middle;\n",
       "    }\n",
       "\n",
       "    .dataframe tbody tr th {\n",
       "        vertical-align: top;\n",
       "    }\n",
       "\n",
       "    .dataframe thead th {\n",
       "        text-align: right;\n",
       "    }\n",
       "</style>\n",
       "<table border=\"1\" class=\"dataframe\">\n",
       "  <thead>\n",
       "    <tr style=\"text-align: right;\">\n",
       "      <th></th>\n",
       "      <th>fixed acidity</th>\n",
       "      <th>volatile acidity</th>\n",
       "      <th>citric acid</th>\n",
       "      <th>residual sugar</th>\n",
       "      <th>chlorides</th>\n",
       "      <th>free sulfur dioxide</th>\n",
       "      <th>total sulfur dioxide</th>\n",
       "      <th>density</th>\n",
       "      <th>pH</th>\n",
       "      <th>sulphates</th>\n",
       "      <th>alcohol</th>\n",
       "      <th>quality</th>\n",
       "    </tr>\n",
       "  </thead>\n",
       "  <tbody>\n",
       "    <tr>\n",
       "      <th>fixed acidity</th>\n",
       "      <td>1.000000</td>\n",
       "      <td>-0.256131</td>\n",
       "      <td>0.671703</td>\n",
       "      <td>0.114777</td>\n",
       "      <td>0.093705</td>\n",
       "      <td>-0.153794</td>\n",
       "      <td>-0.113181</td>\n",
       "      <td>0.668047</td>\n",
       "      <td>-0.682978</td>\n",
       "      <td>0.183006</td>\n",
       "      <td>-0.061668</td>\n",
       "      <td>0.124052</td>\n",
       "    </tr>\n",
       "    <tr>\n",
       "      <th>volatile acidity</th>\n",
       "      <td>-0.256131</td>\n",
       "      <td>1.000000</td>\n",
       "      <td>-0.552496</td>\n",
       "      <td>0.001918</td>\n",
       "      <td>0.061298</td>\n",
       "      <td>-0.010504</td>\n",
       "      <td>0.076470</td>\n",
       "      <td>0.022026</td>\n",
       "      <td>0.234937</td>\n",
       "      <td>-0.260987</td>\n",
       "      <td>-0.202288</td>\n",
       "      <td>-0.390558</td>\n",
       "    </tr>\n",
       "    <tr>\n",
       "      <th>citric acid</th>\n",
       "      <td>0.671703</td>\n",
       "      <td>-0.552496</td>\n",
       "      <td>1.000000</td>\n",
       "      <td>0.143577</td>\n",
       "      <td>0.203823</td>\n",
       "      <td>-0.060978</td>\n",
       "      <td>0.035533</td>\n",
       "      <td>0.364947</td>\n",
       "      <td>-0.541904</td>\n",
       "      <td>0.312770</td>\n",
       "      <td>0.109903</td>\n",
       "      <td>0.226373</td>\n",
       "    </tr>\n",
       "    <tr>\n",
       "      <th>residual sugar</th>\n",
       "      <td>0.114777</td>\n",
       "      <td>0.001918</td>\n",
       "      <td>0.143577</td>\n",
       "      <td>1.000000</td>\n",
       "      <td>0.055610</td>\n",
       "      <td>0.187049</td>\n",
       "      <td>0.203028</td>\n",
       "      <td>0.355283</td>\n",
       "      <td>-0.085652</td>\n",
       "      <td>0.005527</td>\n",
       "      <td>0.042075</td>\n",
       "      <td>0.013732</td>\n",
       "    </tr>\n",
       "    <tr>\n",
       "      <th>chlorides</th>\n",
       "      <td>0.093705</td>\n",
       "      <td>0.061298</td>\n",
       "      <td>0.203823</td>\n",
       "      <td>0.055610</td>\n",
       "      <td>1.000000</td>\n",
       "      <td>0.005562</td>\n",
       "      <td>0.047400</td>\n",
       "      <td>0.200632</td>\n",
       "      <td>-0.265026</td>\n",
       "      <td>0.371260</td>\n",
       "      <td>-0.221141</td>\n",
       "      <td>-0.128907</td>\n",
       "    </tr>\n",
       "    <tr>\n",
       "      <th>free sulfur dioxide</th>\n",
       "      <td>-0.153794</td>\n",
       "      <td>-0.010504</td>\n",
       "      <td>-0.060978</td>\n",
       "      <td>0.187049</td>\n",
       "      <td>0.005562</td>\n",
       "      <td>1.000000</td>\n",
       "      <td>0.667666</td>\n",
       "      <td>-0.021946</td>\n",
       "      <td>0.070377</td>\n",
       "      <td>0.051658</td>\n",
       "      <td>-0.069408</td>\n",
       "      <td>-0.050656</td>\n",
       "    </tr>\n",
       "    <tr>\n",
       "      <th>total sulfur dioxide</th>\n",
       "      <td>-0.113181</td>\n",
       "      <td>0.076470</td>\n",
       "      <td>0.035533</td>\n",
       "      <td>0.203028</td>\n",
       "      <td>0.047400</td>\n",
       "      <td>0.667666</td>\n",
       "      <td>1.000000</td>\n",
       "      <td>0.071269</td>\n",
       "      <td>-0.066495</td>\n",
       "      <td>0.042947</td>\n",
       "      <td>-0.205654</td>\n",
       "      <td>-0.185100</td>\n",
       "    </tr>\n",
       "    <tr>\n",
       "      <th>density</th>\n",
       "      <td>0.668047</td>\n",
       "      <td>0.022026</td>\n",
       "      <td>0.364947</td>\n",
       "      <td>0.355283</td>\n",
       "      <td>0.200632</td>\n",
       "      <td>-0.021946</td>\n",
       "      <td>0.071269</td>\n",
       "      <td>1.000000</td>\n",
       "      <td>-0.341699</td>\n",
       "      <td>0.148506</td>\n",
       "      <td>-0.496180</td>\n",
       "      <td>-0.174919</td>\n",
       "    </tr>\n",
       "    <tr>\n",
       "      <th>pH</th>\n",
       "      <td>-0.682978</td>\n",
       "      <td>0.234937</td>\n",
       "      <td>-0.541904</td>\n",
       "      <td>-0.085652</td>\n",
       "      <td>-0.265026</td>\n",
       "      <td>0.070377</td>\n",
       "      <td>-0.066495</td>\n",
       "      <td>-0.341699</td>\n",
       "      <td>1.000000</td>\n",
       "      <td>-0.196648</td>\n",
       "      <td>0.205633</td>\n",
       "      <td>-0.057731</td>\n",
       "    </tr>\n",
       "    <tr>\n",
       "      <th>sulphates</th>\n",
       "      <td>0.183006</td>\n",
       "      <td>-0.260987</td>\n",
       "      <td>0.312770</td>\n",
       "      <td>0.005527</td>\n",
       "      <td>0.371260</td>\n",
       "      <td>0.051658</td>\n",
       "      <td>0.042947</td>\n",
       "      <td>0.148506</td>\n",
       "      <td>-0.196648</td>\n",
       "      <td>1.000000</td>\n",
       "      <td>0.093595</td>\n",
       "      <td>0.251397</td>\n",
       "    </tr>\n",
       "    <tr>\n",
       "      <th>alcohol</th>\n",
       "      <td>-0.061668</td>\n",
       "      <td>-0.202288</td>\n",
       "      <td>0.109903</td>\n",
       "      <td>0.042075</td>\n",
       "      <td>-0.221141</td>\n",
       "      <td>-0.069408</td>\n",
       "      <td>-0.205654</td>\n",
       "      <td>-0.496180</td>\n",
       "      <td>0.205633</td>\n",
       "      <td>0.093595</td>\n",
       "      <td>1.000000</td>\n",
       "      <td>0.476166</td>\n",
       "    </tr>\n",
       "    <tr>\n",
       "      <th>quality</th>\n",
       "      <td>0.124052</td>\n",
       "      <td>-0.390558</td>\n",
       "      <td>0.226373</td>\n",
       "      <td>0.013732</td>\n",
       "      <td>-0.128907</td>\n",
       "      <td>-0.050656</td>\n",
       "      <td>-0.185100</td>\n",
       "      <td>-0.174919</td>\n",
       "      <td>-0.057731</td>\n",
       "      <td>0.251397</td>\n",
       "      <td>0.476166</td>\n",
       "      <td>1.000000</td>\n",
       "    </tr>\n",
       "  </tbody>\n",
       "</table>\n",
       "</div>"
      ],
      "text/plain": [
       "                      fixed acidity  volatile acidity  citric acid  \\\n",
       "fixed acidity              1.000000         -0.256131     0.671703   \n",
       "volatile acidity          -0.256131          1.000000    -0.552496   \n",
       "citric acid                0.671703         -0.552496     1.000000   \n",
       "residual sugar             0.114777          0.001918     0.143577   \n",
       "chlorides                  0.093705          0.061298     0.203823   \n",
       "free sulfur dioxide       -0.153794         -0.010504    -0.060978   \n",
       "total sulfur dioxide      -0.113181          0.076470     0.035533   \n",
       "density                    0.668047          0.022026     0.364947   \n",
       "pH                        -0.682978          0.234937    -0.541904   \n",
       "sulphates                  0.183006         -0.260987     0.312770   \n",
       "alcohol                   -0.061668         -0.202288     0.109903   \n",
       "quality                    0.124052         -0.390558     0.226373   \n",
       "\n",
       "                      residual sugar  chlorides  free sulfur dioxide  \\\n",
       "fixed acidity               0.114777   0.093705            -0.153794   \n",
       "volatile acidity            0.001918   0.061298            -0.010504   \n",
       "citric acid                 0.143577   0.203823            -0.060978   \n",
       "residual sugar              1.000000   0.055610             0.187049   \n",
       "chlorides                   0.055610   1.000000             0.005562   \n",
       "free sulfur dioxide         0.187049   0.005562             1.000000   \n",
       "total sulfur dioxide        0.203028   0.047400             0.667666   \n",
       "density                     0.355283   0.200632            -0.021946   \n",
       "pH                         -0.085652  -0.265026             0.070377   \n",
       "sulphates                   0.005527   0.371260             0.051658   \n",
       "alcohol                     0.042075  -0.221141            -0.069408   \n",
       "quality                     0.013732  -0.128907            -0.050656   \n",
       "\n",
       "                      total sulfur dioxide   density        pH  sulphates  \\\n",
       "fixed acidity                    -0.113181  0.668047 -0.682978   0.183006   \n",
       "volatile acidity                  0.076470  0.022026  0.234937  -0.260987   \n",
       "citric acid                       0.035533  0.364947 -0.541904   0.312770   \n",
       "residual sugar                    0.203028  0.355283 -0.085652   0.005527   \n",
       "chlorides                         0.047400  0.200632 -0.265026   0.371260   \n",
       "free sulfur dioxide               0.667666 -0.021946  0.070377   0.051658   \n",
       "total sulfur dioxide              1.000000  0.071269 -0.066495   0.042947   \n",
       "density                           0.071269  1.000000 -0.341699   0.148506   \n",
       "pH                               -0.066495 -0.341699  1.000000  -0.196648   \n",
       "sulphates                         0.042947  0.148506 -0.196648   1.000000   \n",
       "alcohol                          -0.205654 -0.496180  0.205633   0.093595   \n",
       "quality                          -0.185100 -0.174919 -0.057731   0.251397   \n",
       "\n",
       "                       alcohol   quality  \n",
       "fixed acidity        -0.061668  0.124052  \n",
       "volatile acidity     -0.202288 -0.390558  \n",
       "citric acid           0.109903  0.226373  \n",
       "residual sugar        0.042075  0.013732  \n",
       "chlorides            -0.221141 -0.128907  \n",
       "free sulfur dioxide  -0.069408 -0.050656  \n",
       "total sulfur dioxide -0.205654 -0.185100  \n",
       "density              -0.496180 -0.174919  \n",
       "pH                    0.205633 -0.057731  \n",
       "sulphates             0.093595  0.251397  \n",
       "alcohol               1.000000  0.476166  \n",
       "quality               0.476166  1.000000  "
      ]
     },
     "execution_count": 34,
     "metadata": {},
     "output_type": "execute_result"
    }
   ],
   "source": [
    "data.corr()"
   ]
  },
  {
   "cell_type": "markdown",
   "metadata": {},
   "source": [
    "### A continuacion se tomara el coeficiente de correlacion de cada variable versus la calidad del vino"
   ]
  },
  {
   "cell_type": "code",
   "execution_count": 61,
   "metadata": {},
   "outputs": [
    {
     "data": {
      "image/png": "[encoded data removed]",
      "text/plain": [
       "<Figure size 432x288 with 1 Axes>"
      ]
     },
     "metadata": {
      "needs_background": "light"
     },
     "output_type": "display_data"
    }
   ],
   "source": [
    "indexCol = 1\n",
    "quality = data[data.columns[11]]\n",
    "feature = data[data.columns[indexCol]] \n",
    "\n",
    "coefCorr = np.corrcoef(feature, quality)\n",
    "\n",
    "fig = plt.figure()\n",
    "ax = fig.add_subplot(1,1,1) \n",
    "ax.scatter(feature, quality, marker='.')  \n",
    "ax.set_xlabel(data.columns[indexCol])\n",
    "ax.set_ylabel('Quality')\n",
    "title = \" - Coeficiente Corr:\" + str(coefCorr[0,1])\n",
    "ax.set_title(title)\n",
    "plt.show()"
   ]
  },
  {
   "cell_type": "code",
   "execution_count": 62,
   "metadata": {},
   "outputs": [
    {
     "data": {
      "image/png": "[encoded data removed]",
      "text/plain": [
       "<Figure size 432x288 with 1 Axes>"
      ]
     },
     "metadata": {
      "needs_background": "light"
     },
     "output_type": "display_data"
    }
   ],
   "source": [
    "indexCol = 2\n",
    "quality = data[data.columns[11]]\n",
    "feature = data[data.columns[indexCol]] \n",
    "\n",
    "coefCorr = np.corrcoef(feature, quality)\n",
    "\n",
    "fig = plt.figure()\n",
    "ax = fig.add_subplot(1,1,1) \n",
    "ax.scatter(feature, quality, marker='.')  \n",
    "ax.set_xlabel(data.columns[indexCol])\n",
    "ax.set_ylabel('Quality')\n",
    "title = \" - Coeficiente Corr:\" + str(coefCorr[0,1])\n",
    "ax.set_title(title)\n",
    "plt.show()"
   ]
  },
  {
   "cell_type": "code",
   "execution_count": 63,
   "metadata": {},
   "outputs": [
    {
     "data": {
      "image/png": "[encoded data removed]",
      "text/plain": [
       "<Figure size 432x288 with 1 Axes>"
      ]
     },
     "metadata": {
      "needs_background": "light"
     },
     "output_type": "display_data"
    }
   ],
   "source": [
    "indexCol = 3\n",
    "quality = data[data.columns[11]]\n",
    "feature = data[data.columns[indexCol]] \n",
    "\n",
    "coefCorr = np.corrcoef(feature, quality)\n",
    "\n",
    "fig = plt.figure()\n",
    "ax = fig.add_subplot(1,1,1) \n",
    "ax.scatter(feature, quality, marker='.')  \n",
    "ax.set_xlabel(data.columns[indexCol])\n",
    "ax.set_ylabel('Quality')\n",
    "title = \" - Coeficiente Corr:\" + str(coefCorr[0,1])\n",
    "ax.set_title(title)\n",
    "plt.show()"
   ]
  },
  {
   "cell_type": "code",
   "execution_count": 64,
   "metadata": {},
   "outputs": [
    {
     "data": {
      "image/png": "[encoded data removed]",
      "text/plain": [
       "<Figure size 432x288 with 1 Axes>"
      ]
     },
     "metadata": {
      "needs_background": "light"
     },
     "output_type": "display_data"
    }
   ],
   "source": [
    "indexCol = 4\n",
    "quality = data[data.columns[11]]\n",
    "feature = data[data.columns[indexCol]] \n",
    "\n",
    "coefCorr = np.corrcoef(feature, quality)\n",
    "\n",
    "fig = plt.figure()\n",
    "ax = fig.add_subplot(1,1,1) \n",
    "ax.scatter(feature, quality, marker='.')  \n",
    "ax.set_xlabel(data.columns[indexCol])\n",
    "ax.set_ylabel('Quality')\n",
    "title = \" - Coeficiente Corr:\" + str(coefCorr[0,1])\n",
    "ax.set_title(title)\n",
    "plt.show()"
   ]
  },
  {
   "cell_type": "code",
   "execution_count": 65,
   "metadata": {},
   "outputs": [
    {
     "data": {
      "image/png": "[encoded data removed]",
      "text/plain": [
       "<Figure size 432x288 with 1 Axes>"
      ]
     },
     "metadata": {
      "needs_background": "light"
     },
     "output_type": "display_data"
    }
   ],
   "source": [
    "indexCol = 5\n",
    "quality = data[data.columns[11]]\n",
    "feature = data[data.columns[indexCol]] \n",
    "\n",
    "coefCorr = np.corrcoef(feature, quality)\n",
    "\n",
    "fig = plt.figure()\n",
    "ax = fig.add_subplot(1,1,1) \n",
    "ax.scatter(feature, quality, marker='.')  \n",
    "ax.set_xlabel(data.columns[indexCol])\n",
    "ax.set_ylabel('Quality')\n",
    "title = \" - Coeficiente Corr:\" + str(coefCorr[0,1])\n",
    "ax.set_title(title)\n",
    "plt.show()"
   ]
  },
  {
   "cell_type": "code",
   "execution_count": 66,
   "metadata": {},
   "outputs": [
    {
     "data": {
      "image/png": "[encoded data removed]",
      "text/plain": [
       "<Figure size 432x288 with 1 Axes>"
      ]
     },
     "metadata": {
      "needs_background": "light"
     },
     "output_type": "display_data"
    }
   ],
   "source": [
    "indexCol = 6\n",
    "quality = data[data.columns[11]]\n",
    "feature = data[data.columns[indexCol]] \n",
    "\n",
    "coefCorr = np.corrcoef(feature, quality)\n",
    "\n",
    "fig = plt.figure()\n",
    "ax = fig.add_subplot(1,1,1) \n",
    "ax.scatter(feature, quality, marker='.')  \n",
    "ax.set_xlabel(data.columns[indexCol])\n",
    "ax.set_ylabel('Quality')\n",
    "title = \" - Coeficiente Corr:\" + str(coefCorr[0,1])\n",
    "ax.set_title(title)\n",
    "plt.show()"
   ]
  },
  {
   "cell_type": "code",
   "execution_count": 67,
   "metadata": {},
   "outputs": [
    {
     "data": {
      "image/png": "[encoded data removed]",
      "text/plain": [
       "<Figure size 432x288 with 1 Axes>"
      ]
     },
     "metadata": {
      "needs_background": "light"
     },
     "output_type": "display_data"
    }
   ],
   "source": [
    "indexCol = 7\n",
    "quality = data[data.columns[11]]\n",
    "feature = data[data.columns[indexCol]] \n",
    "\n",
    "coefCorr = np.corrcoef(feature, quality)\n",
    "\n",
    "fig = plt.figure()\n",
    "ax = fig.add_subplot(1,1,1) \n",
    "ax.scatter(feature, quality, marker='.')  \n",
    "ax.set_xlabel(data.columns[indexCol])\n",
    "ax.set_ylabel('Quality')\n",
    "title = \" - Coeficiente Corr:\" + str(coefCorr[0,1])\n",
    "ax.set_title(title)\n",
    "plt.show()"
   ]
  },
  {
   "cell_type": "code",
   "execution_count": 68,
   "metadata": {},
   "outputs": [
    {
     "data": {
      "image/png": "[encoded data removed]",
      "text/plain": [
       "<Figure size 432x288 with 1 Axes>"
      ]
     },
     "metadata": {
      "needs_background": "light"
     },
     "output_type": "display_data"
    }
   ],
   "source": [
    "indexCol = 8\n",
    "quality = data[data.columns[11]]\n",
    "feature = data[data.columns[indexCol]] \n",
    "\n",
    "coefCorr = np.corrcoef(feature, quality)\n",
    "\n",
    "fig = plt.figure()\n",
    "ax = fig.add_subplot(1,1,1) \n",
    "ax.scatter(feature, quality, marker='.')  \n",
    "ax.set_xlabel(data.columns[indexCol])\n",
    "ax.set_ylabel('Quality')\n",
    "title = \" - Coeficiente Corr:\" + str(coefCorr[0,1])\n",
    "ax.set_title(title)\n",
    "plt.show()"
   ]
  },
  {
   "cell_type": "code",
   "execution_count": 69,
   "metadata": {},
   "outputs": [
    {
     "data": {
      "image/png": "[encoded data removed]",
      "text/plain": [
       "<Figure size 432x288 with 1 Axes>"
      ]
     },
     "metadata": {
      "needs_background": "light"
     },
     "output_type": "display_data"
    }
   ],
   "source": [
    "indexCol = 9\n",
    "quality = data[data.columns[11]]\n",
    "feature = data[data.columns[indexCol]] \n",
    "\n",
    "coefCorr = np.corrcoef(feature, quality)\n",
    "\n",
    "fig = plt.figure()\n",
    "ax = fig.add_subplot(1,1,1) \n",
    "ax.scatter(feature, quality, marker='.')  \n",
    "ax.set_xlabel(data.columns[indexCol])\n",
    "ax.set_ylabel('Quality')\n",
    "title = \" - Coeficiente Corr:\" + str(coefCorr[0,1])\n",
    "ax.set_title(title)\n",
    "plt.show()"
   ]
  },
  {
   "cell_type": "code",
   "execution_count": 70,
   "metadata": {},
   "outputs": [
    {
     "data": {
      "image/png": "[encoded data removed]",
      "text/plain": [
       "<Figure size 432x288 with 1 Axes>"
      ]
     },
     "metadata": {
      "needs_background": "light"
     },
     "output_type": "display_data"
    }
   ],
   "source": [
    "indexCol = 10\n",
    "quality = data[data.columns[11]]\n",
    "feature = data[data.columns[indexCol]] \n",
    "\n",
    "coefCorr = np.corrcoef(feature, quality)\n",
    "\n",
    "fig = plt.figure()\n",
    "ax = fig.add_subplot(1,1,1) \n",
    "ax.scatter(feature, quality, marker='.')  \n",
    "ax.set_xlabel(data.columns[indexCol])\n",
    "ax.set_ylabel('Quality')\n",
    "title = \" - Coeficiente Corr:\" + str(coefCorr[0,1])\n",
    "ax.set_title(title)\n",
    "plt.show()"
   ]
  },
  {
   "cell_type": "markdown",
   "metadata": {},
   "source": [
    "Se eligen 2 variables y se realiza diferentes operaciones entre ellas mismas como feature engineering"
   ]
  },
  {
   "cell_type": "code",
   "execution_count": null,
   "metadata": {},
   "outputs": [],
   "source": []
  },
  {
   "cell_type": "code",
   "execution_count": 212,
   "metadata": {},
   "outputs": [],
   "source": [
    "y = data[data.columns[11]]  #quality\n",
    "a = data[data.columns[1]]   \n",
    "b = data[data.columns[10]]\n",
    "a2 = a*a\n",
    "b2 = b*b\n",
    "ab = a*b\n",
    "a3 = a2*a\n",
    "b3 = b2*b"
   ]
  },
  {
   "cell_type": "code",
   "execution_count": 239,
   "metadata": {},
   "outputs": [],
   "source": [
    "matrix_x =  np.ones((len(a),6))\n",
    "matrix_x[:,1] = a\n",
    "matrix_x[:,2] = b\n",
    "matrix_x[:,3] = a2\n",
    "matrix_x[:,4] = b2\n",
    "matrix_x[:,5] = ab"
   ]
  },
  {
   "cell_type": "code",
   "execution_count": 236,
   "metadata": {},
   "outputs": [],
   "source": [
    "\n",
    "tf.reset_default_graph()\n",
    "g = tf.Graph()\n",
    "with g.as_default():\n",
    "    X = tf.placeholder(\"float\",name=\"X\") \n",
    "    Y = tf.placeholder(\"float\",name=\"Y\") \n",
    "    \n",
    "    learning_rate = tf.placeholder(\"float\")\n",
    "    \n",
    "    W = tf.Variable([[0],[0],[0],[0],[0],[0]], name=\"W\", dtype=\"float\")\n",
    "    \n",
    "    with tf.name_scope(\"hipotesis\"):\n",
    "        y_pred = tf.matmul(X,W)\n",
    "\n",
    "    with tf.name_scope(\"funcion_costo\"):\n",
    "        cost = tf.reduce_mean(tf.pow(y_pred-Y, 2)) / (2)\n",
    "        \n",
    "    with tf.name_scope(\"Gradient_Des.Optimizer\"):\n",
    "        cost_summary = tf.summary.scalar(\"cost\",cost)\n",
    "        \n",
    "    optimizer = tf.train.GradientDescentOptimizer(learning_rate).minimize(cost)\n",
    "    init = tf.global_variables_initializer()\n"
   ]
  },
  {
   "cell_type": "code",
   "execution_count": 237,
   "metadata": {},
   "outputs": [],
   "source": [
    "def train(epochs = 1000,lr = 0.1,print_every=100):\n",
    "    tf.reset_default_graph()\n",
    "\n",
    "    start = time.time()\n",
    "    with tf.Session(graph=g) as sess: \n",
    "\n",
    "        writer = tf.summary.FileWriter('./graphs3/lr='+str(lr)+'_polinomio_grado_2', sess.graph)\n",
    "        sess.run(init) \n",
    "        \n",
    "        # Batch gradient descent(todo el dataset)\n",
    "        for epoch in range(epochs): \n",
    "\n",
    "            _,c = sess.run([optimizer,cost_summary], feed_dict = {X : matrix_x, Y : y,learning_rate:lr}) \n",
    "            writer.add_summary(c, epoch+1)\n",
    "\n",
    "            if (epoch + 1) % print_every == 0:\n",
    "                co,we= sess.run([cost,W],feed_dict = {X : matrix_x, Y : y,learning_rate:lr}) \n",
    "                print(\">Epoch\", (epoch + 1), \": cost =\", co, \"\\nW0 =\", we[0], \"\\nW1 =\", we[1], \"\\nW2 =\", we[2], \"\\nW3 =\", we[3], \"\\nW4 =\", we[4], \"\\nW5 =\", we[5]) \n",
    "                \n",
    "        writer.close()\n",
    "    end = time.time()\n",
    "    \n",
    "    print(\"Total time \",end-start)"
   ]
  },
  {
   "cell_type": "code",
   "execution_count": 241,
   "metadata": {
    "scrolled": true
   },
   "outputs": [
    {
     "name": "stdout",
     "output_type": "stream",
     "text": [
      ">Epoch 100 : cost = 0.968452 \n",
      "W0 = [0.00278161] \n",
      "W1 = [0.00184525] \n",
      "W2 = [0.01715693] \n",
      "W3 = [0.00122408] \n",
      "W4 = [0.04689148] \n",
      "W5 = [0.01327348]\n",
      ">Epoch 200 : cost = 0.94134974 \n",
      "W0 = [0.00508735] \n",
      "W1 = [0.00339837] \n",
      "W2 = [0.0295213] \n",
      "W3 = [0.00225304] \n",
      "W4 = [0.04521865] \n",
      "W5 = [0.02359695]\n",
      ">Epoch 300 : cost = 0.9161574 \n",
      "W0 = [0.00734318] \n",
      "W1 = [0.00488335] \n",
      "W2 = [0.04161805] \n",
      "W3 = [0.00321881] \n",
      "W4 = [0.04359984] \n",
      "W5 = [0.03333105]\n",
      ">Epoch 400 : cost = 0.8927107 \n",
      "W0 = [0.00955093] \n",
      "W1 = [0.00630338] \n",
      "W2 = [0.05345691] \n",
      "W3 = [0.00412453] \n",
      "W4 = [0.04203273] \n",
      "W5 = [0.04250452]\n",
      ">Epoch 500 : cost = 0.87085885 \n",
      "W0 = [0.01171232] \n",
      "W1 = [0.00766146] \n",
      "W2 = [0.06504713] \n",
      "W3 = [0.00497314] \n",
      "W4 = [0.04051508] \n",
      "W5 = [0.05114477]\n",
      ">Epoch 600 : cost = 0.85046566 \n",
      "W0 = [0.01382901] \n",
      "W1 = [0.00896047] \n",
      "W2 = [0.07639761] \n",
      "W3 = [0.00576749] \n",
      "W4 = [0.03904482] \n",
      "W5 = [0.05927783]\n",
      ">Epoch 700 : cost = 0.831407 \n",
      "W0 = [0.01590258] \n",
      "W1 = [0.01020317] \n",
      "W2 = [0.08751682] \n",
      "W3 = [0.00651025] \n",
      "W4 = [0.03761992] \n",
      "W5 = [0.06692859]\n",
      ">Epoch 800 : cost = 0.81356937 \n",
      "W0 = [0.01793455] \n",
      "W1 = [0.01139214] \n",
      "W2 = [0.09841284] \n",
      "W3 = [0.00720401] \n",
      "W4 = [0.03623846] \n",
      "W5 = [0.07412069]\n",
      ">Epoch 900 : cost = 0.79685074 \n",
      "W0 = [0.01992637] \n",
      "W1 = [0.0125299] \n",
      "W2 = [0.10909344] \n",
      "W3 = [0.00785119] \n",
      "W4 = [0.03489861] \n",
      "W5 = [0.08087669]\n",
      ">Epoch 1000 : cost = 0.7811574 \n",
      "W0 = [0.02187941] \n",
      "W1 = [0.01361881] \n",
      "W2 = [0.11956602] \n",
      "W3 = [0.00845413] \n",
      "W4 = [0.03359864] \n",
      "W5 = [0.08721802]\n",
      "Total time  27.737586498260498\n"
     ]
    }
   ],
   "source": [
    "train(lr=0.0001)"
   ]
  },
  {
   "cell_type": "code",
   "execution_count": 210,
   "metadata": {},
   "outputs": [
    {
     "name": "stdout",
     "output_type": "stream",
     "text": [
      ">Epoch 100 : cost = nan \n",
      "W0 = [nan] \n",
      "W1 = [nan] \n",
      "W2 = [nan] \n",
      "W3 = [nan] \n",
      "W4 = [nan] \n",
      "W5 = [nan]\n",
      ">Epoch 200 : cost = nan \n",
      "W0 = [nan] \n",
      "W1 = [nan] \n",
      "W2 = [nan] \n",
      "W3 = [nan] \n",
      "W4 = [nan] \n",
      "W5 = [nan]\n",
      ">Epoch 300 : cost = nan \n",
      "W0 = [nan] \n",
      "W1 = [nan] \n",
      "W2 = [nan] \n",
      "W3 = [nan] \n",
      "W4 = [nan] \n",
      "W5 = [nan]\n",
      ">Epoch 400 : cost = nan \n",
      "W0 = [nan] \n",
      "W1 = [nan] \n",
      "W2 = [nan] \n",
      "W3 = [nan] \n",
      "W4 = [nan] \n",
      "W5 = [nan]\n",
      ">Epoch 500 : cost = nan \n",
      "W0 = [nan] \n",
      "W1 = [nan] \n",
      "W2 = [nan] \n",
      "W3 = [nan] \n",
      "W4 = [nan] \n",
      "W5 = [nan]\n",
      ">Epoch 600 : cost = nan \n",
      "W0 = [nan] \n",
      "W1 = [nan] \n",
      "W2 = [nan] \n",
      "W3 = [nan] \n",
      "W4 = [nan] \n",
      "W5 = [nan]\n",
      ">Epoch 700 : cost = nan \n",
      "W0 = [nan] \n",
      "W1 = [nan] \n",
      "W2 = [nan] \n",
      "W3 = [nan] \n",
      "W4 = [nan] \n",
      "W5 = [nan]\n",
      ">Epoch 800 : cost = nan \n",
      "W0 = [nan] \n",
      "W1 = [nan] \n",
      "W2 = [nan] \n",
      "W3 = [nan] \n",
      "W4 = [nan] \n",
      "W5 = [nan]\n",
      ">Epoch 900 : cost = nan \n",
      "W0 = [nan] \n",
      "W1 = [nan] \n",
      "W2 = [nan] \n",
      "W3 = [nan] \n",
      "W4 = [nan] \n",
      "W5 = [nan]\n",
      ">Epoch 1000 : cost = nan \n",
      "W0 = [nan] \n",
      "W1 = [nan] \n",
      "W2 = [nan] \n",
      "W3 = [nan] \n",
      "W4 = [nan] \n",
      "W5 = [nan]\n",
      "Total time  28.766645431518555\n"
     ]
    }
   ],
   "source": [
    "train(lr=0.001)"
   ]
  },
  {
   "cell_type": "code",
   "execution_count": 211,
   "metadata": {},
   "outputs": [
    {
     "name": "stdout",
     "output_type": "stream",
     "text": [
      ">Epoch 100 : cost = 0.9946281 \n",
      "W0 = [0.00066218] \n",
      "W1 = [0.0003864] \n",
      "W2 = [0.00579167] \n",
      "W3 = [0.00024127] \n",
      "W4 = [0.04844518] \n",
      "W5 = [0.00345324]\n",
      ">Epoch 200 : cost = 0.99163234 \n",
      "W0 = [0.00089976] \n",
      "W1 = [0.0005514] \n",
      "W2 = [0.00706569] \n",
      "W3 = [0.00035317] \n",
      "W4 = [0.04827031] \n",
      "W5 = [0.00456955]\n",
      ">Epoch 300 : cost = 0.9886588 \n",
      "W0 = [0.00113681] \n",
      "W1 = [0.00071565] \n",
      "W2 = [0.00833684] \n",
      "W3 = [0.00046438] \n",
      "W4 = [0.04809598] \n",
      "W5 = [0.00567941]\n",
      ">Epoch 400 : cost = 0.98570734 \n",
      "W0 = [0.00137333] \n",
      "W1 = [0.00087916] \n",
      "W2 = [0.00960513] \n",
      "W3 = [0.0005749] \n",
      "W4 = [0.04792221] \n",
      "W5 = [0.00678286]\n",
      ">Epoch 500 : cost = 0.9827782 \n",
      "W0 = [0.00160931] \n",
      "W1 = [0.00104194] \n",
      "W2 = [0.01087059] \n",
      "W3 = [0.00068474] \n",
      "W4 = [0.04774904] \n",
      "W5 = [0.00787993]\n",
      ">Epoch 600 : cost = 0.9798709 \n",
      "W0 = [0.00184477] \n",
      "W1 = [0.00120398] \n",
      "W2 = [0.01213322] \n",
      "W3 = [0.0007939] \n",
      "W4 = [0.04757643] \n",
      "W5 = [0.00897065]\n",
      ">Epoch 700 : cost = 0.9769853 \n",
      "W0 = [0.00207971] \n",
      "W1 = [0.0013653] \n",
      "W2 = [0.01339303] \n",
      "W3 = [0.00090238] \n",
      "W4 = [0.04740441] \n",
      "W5 = [0.01005505]\n",
      ">Epoch 800 : cost = 0.9741214 \n",
      "W0 = [0.00231412] \n",
      "W1 = [0.00152589] \n",
      "W2 = [0.01465003] \n",
      "W3 = [0.00101018] \n",
      "W4 = [0.04723295] \n",
      "W5 = [0.01113317]\n",
      ">Epoch 900 : cost = 0.9712785 \n",
      "W0 = [0.00254801] \n",
      "W1 = [0.00168577] \n",
      "W2 = [0.01590424] \n",
      "W3 = [0.00111732] \n",
      "W4 = [0.04706207] \n",
      "W5 = [0.01220503]\n",
      ">Epoch 1000 : cost = 0.96845675 \n",
      "W0 = [0.00278137] \n",
      "W1 = [0.00184492] \n",
      "W2 = [0.01715566] \n",
      "W3 = [0.00122378] \n",
      "W4 = [0.04689174] \n",
      "W5 = [0.01327068]\n",
      "Total time  24.698412895202637\n"
     ]
    }
   ],
   "source": [
    "train(lr=0.00001)"
   ]
  },
  {
   "cell_type": "markdown",
   "metadata": {},
   "source": [
    "# Conclusion:"
   ]
  },
  {
   "cell_type": "markdown",
   "metadata": {},
   "source": [
    "Basado en las diferentes pruebas que se realizaron, se concluye que el modelo que predice de mejor forma los datos es un modelo de grado 2, utilizando learning rate=0.0001, obteniendo como resultado los siguientes pesos:\n",
    "W0 = [0.02187941] \n",
    ", W1 = [0.01361881] \n",
    ", W2 = [0.11956602] \n",
    ", W3 = [0.00845413] \n",
    ", W4 = [0.03359864] \n",
    ", W5 = [0.08721802]\n",
    "\n",
    "Los cuales serán multiplicados por las siguientes X:\n",
    "x0 = a\n",
    ", x1 = b\n",
    ", x2 = a^2\n",
    ", x3 = b^2\n",
    ", x4 = ab"
   ]
  },
  {
   "cell_type": "markdown",
   "metadata": {},
   "source": [
    "# Grafo producido para el cálculo"
   ]
  },
  {
   "cell_type": "code",
   "execution_count": 246,
   "metadata": {},
   "outputs": [
    {
     "data": {
      "text/html": [
       "<img src=\"img/grafo.png\", width=600, height=600>\n",
       "Link: https://github.com/aomeza/CienciaDeDatosPython/blob/master/img/grafo.PNG\n",
       "        \n"
      ],
      "text/plain": [
       "<IPython.core.display.HTML object>"
      ]
     },
     "metadata": {},
     "output_type": "display_data"
    }
   ],
   "source": [
    "%%html \n",
    "<img src=\"img/grafo.png\", width=600, height=600>\n",
    "Link: https://github.com/aomeza/CienciaDeDatosPython/blob/master/img/grafo.PNG\n",
    "        "
   ]
  },
  {
   "cell_type": "markdown",
   "metadata": {},
   "source": [
    "# A continuación se muestra las gráficas de error resultantes, mostrando cuál converge más rapido"
   ]
  },
  {
   "cell_type": "code",
   "execution_count": 247,
   "metadata": {},
   "outputs": [
    {
     "data": {
      "text/html": [
       "<img src=\"img/graficas_tb.png\", width=600, height=600>\n",
       "\n",
       "Link: https://github.com/aomeza/CienciaDeDatosPython/blob/master/img/graficas_tb.PNG\n"
      ],
      "text/plain": [
       "<IPython.core.display.HTML object>"
      ]
     },
     "metadata": {},
     "output_type": "display_data"
    }
   ],
   "source": [
    "%%html \n",
    "<img src=\"img/graficas_tb.png\", width=600, height=600>\n",
    "\n",
    "Link: https://github.com/aomeza/CienciaDeDatosPython/blob/master/img/graficas_tb.PNG"
   ]
  }
 ],
 "metadata": {
  "kernelspec": {
   "display_name": "Python 3",
   "language": "python",
   "name": "python3"
  },
  "language_info": {
   "codemirror_mode": {
    "name": "ipython",
    "version": 3
   },
   "file_extension": ".py",
   "mimetype": "text/x-python",
   "name": "python",
   "nbconvert_exporter": "python",
   "pygments_lexer": "ipython3",
   "version": "3.7.3"
  }
 },
 "nbformat": 4,
 "nbformat_minor": 2
}
