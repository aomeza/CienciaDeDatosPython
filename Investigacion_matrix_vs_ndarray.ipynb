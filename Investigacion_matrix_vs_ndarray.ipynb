{
 "cells": [
  {
   "cell_type": "markdown",
   "metadata": {},
   "source": [
    "## Diferencia entre ndarray y matrix en Numpy:\n",
    "\n",
    "Si bien son similares y puede ser utilizadas ambas como una matriz, la diferencia principal entre ellas es que numpy.mat únicamente acepta estructuras bidimensionales, mientras que ndarray permite utilizar estructuras N dimensionales.\n",
    "\n",
    "A continuación un ejemplo de un ndarray y matriz de 2 dimensiones, 3x3."
   ]
  },
  {
   "cell_type": "code",
   "execution_count": 102,
   "metadata": {},
   "outputs": [
    {
     "name": "stdout",
     "output_type": "stream",
     "text": [
      "ndarray: \n",
      " [[0 1 2]\n",
      " [3 4 5]\n",
      " [6 7 8]] \n",
      "\n",
      "matriz: \n",
      "[[1 2 3]\n",
      " [4 5 6]\n",
      " [7 8 9]]\n"
     ]
    }
   ],
   "source": [
    "import numpy as np\n",
    "a = np.arange(9).reshape(3,3)\n",
    "b = np.matrix('1 2 3; 4 5 6; 7 8 9')\n",
    "print(\"ndarray: \\n\",a,\"\\n\")\n",
    "print(\"matriz: \")\n",
    "print(b)"
   ]
  },
  {
   "cell_type": "markdown",
   "metadata": {},
   "source": [
    "A continuación se muestra un ejemplo de ndarray de 3 dimensiones, 3x3x3.  Algo que no es posible realizar con matrices:"
   ]
  },
  {
   "cell_type": "code",
   "execution_count": 63,
   "metadata": {},
   "outputs": [
    {
     "name": "stdout",
     "output_type": "stream",
     "text": [
      "ndarray de 3x3x3:\n",
      " [[[ 0  1  2]\n",
      "  [ 3  4  5]\n",
      "  [ 6  7  8]]\n",
      "\n",
      " [[ 9 10 11]\n",
      "  [12 13 14]\n",
      "  [15 16 17]]\n",
      "\n",
      " [[18 19 20]\n",
      "  [21 22 23]\n",
      "  [24 25 26]]]\n"
     ]
    }
   ],
   "source": [
    "a = np.arange(27).reshape(3,3,3)\n",
    "print(\"ndarray de 3x3x3:\\n\", a)"
   ]
  },
  {
   "cell_type": "markdown",
   "metadata": {},
   "source": [
    "Otra diferencia que existe entre ambos es que si se tiene 2 matrices a y b, el resultado de a x b será la multiplicación de matrices, por el contrario si se tienen 2 ndarray y se realiza a x b, el resultado será un ndarray de las mismas dimensiones con el producto de cada uno de los elementos posición por posición.  A continuación un ejemplo:"
   ]
  },
  {
   "cell_type": "code",
   "execution_count": 101,
   "metadata": {},
   "outputs": [
    {
     "name": "stdout",
     "output_type": "stream",
     "text": [
      "Siendo a: \n",
      " [[0 1 2]\n",
      " [3 4 5]\n",
      " [6 7 8]]\n",
      "\n",
      "Se muestra a continuación el resultado de a x a:\n",
      "\n",
      "- Con ndarrays: \n",
      " [[ 0  1  4]\n",
      " [ 9 16 25]\n",
      " [36 49 64]]\n",
      "\n",
      "- Con matrices: \n",
      " [[ 15  18  21]\n",
      " [ 42  54  66]\n",
      " [ 69  90 111]]\n"
     ]
    }
   ],
   "source": [
    "a = np.arange(9).reshape(3,3)\n",
    "print(\"Siendo a: \\n\",a)\n",
    "print(\"\\nSe muestra a continuación el resultado de a x a:\")\n",
    "print(\"\\n- Con ndarrays: \\n\",a*a)\n",
    "a=np.matrix('0 1 2; 3 4 5; 6 7 8')\n",
    "print(\"\\n- Con matrices: \\n\",a*a)"
   ]
  },
  {
   "cell_type": "markdown",
   "metadata": {},
   "source": [
    "Ambos, matrix y ndarray poseen la capacidad de retornar la transpuesta con .T, sin embargo, solo con matrices puede retornarse la matriz inversa."
   ]
  },
  {
   "cell_type": "code",
   "execution_count": 103,
   "metadata": {},
   "outputs": [
    {
     "name": "stdout",
     "output_type": "stream",
     "text": [
      "Matriz original: \n",
      " [[0 1 2]\n",
      " [3 4 5]\n",
      " [6 7 8]]\n",
      "\n",
      "Matriz transpuesta: \n",
      " [[0 3 6]\n",
      " [1 4 7]\n",
      " [2 5 8]]\n",
      "\n",
      "Matriz transpuesta: \n",
      " [[0 3 6]\n",
      " [1 4 7]\n",
      " [2 5 8]]\n"
     ]
    }
   ],
   "source": [
    "a=np.matrix('0 1 2; 3 4 5; 6 7 8')\n",
    "print(\"Matriz original: \\n\", a)\n",
    "print(\"\\nMatriz transpuesta: \\n\", a.T)\n",
    "print(\"\\nMatriz transpuesta: \\n\", a.H)"
   ]
  },
  {
   "cell_type": "markdown",
   "metadata": {},
   "source": [
    "# Referencias\n",
    "\n",
    "https://stackoverflow.com/questions/4151128/what-are-the-differences-between-numpy-arrays-and-matrices-which-one-should-i-u\n",
    "\n",
    "https://docs.scipy.org/doc/numpy/user/quickstart.html\n",
    "\n",
    "https://docs.scipy.org/doc/numpy-1.13.0/reference/arrays.ndarray.html\n",
    "\n"
   ]
  },
  {
   "cell_type": "code",
   "execution_count": null,
   "metadata": {},
   "outputs": [],
   "source": []
  }
 ],
 "metadata": {
  "kernelspec": {
   "display_name": "Python 3",
   "language": "python",
   "name": "python3"
  },
  "language_info": {
   "codemirror_mode": {
    "name": "ipython",
    "version": 3
   },
   "file_extension": ".py",
   "mimetype": "text/x-python",
   "name": "python",
   "nbconvert_exporter": "python",
   "pygments_lexer": "ipython3",
   "version": "3.7.2"
  }
 },
 "nbformat": 4,
 "nbformat_minor": 2
}
