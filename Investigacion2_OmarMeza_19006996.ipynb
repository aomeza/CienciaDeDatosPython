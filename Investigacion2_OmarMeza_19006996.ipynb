{
 "cells": [
  {
   "cell_type": "markdown",
   "metadata": {},
   "source": [
    "# Funciones en Python\n",
    "Una función o subrutina en Python es un bloque de código separado del resto de código, el cual tiene como objetivo realizar una tarea específica, pudiendo recibir uno o más parámetros de entrada y realizando operaciones o cálculos con éstos retornará un valor de salida hacia el llamante de la función.\n",
    "\n",
    "Una función en Python se define con la palabra reservada def seguido por el nombre que le queremos asignar; seguido, entre paréntesis el nombre de los parámetros que tendrá la función, pudiendo ser parámetros posicionales, keyword y opcionales.  La definición de la función termina con dos puntos “:”, el código de la función se escribe debajo de la definición, utilizando indentación.\n"
   ]
  },
  {
   "cell_type": "code",
   "execution_count": 6,
   "metadata": {},
   "outputs": [
    {
     "data": {
      "text/plain": [
       "'Hola Omar!'"
      ]
     },
     "execution_count": 6,
     "metadata": {},
     "output_type": "execute_result"
    }
   ],
   "source": [
    "def funcionSaludo(nombre):\n",
    "\treturn(\"Hola \" + nombre + \"!\")\n",
    "\n",
    "funcionSaludo(\"Omar\")"
   ]
  },
  {
   "cell_type": "markdown",
   "metadata": {},
   "source": [
    "En este caso, si la función es llamada con el parámetro “Omar”, su valor de retorno sería: Hola Omar!\n",
    "\n",
    "Cabe mencionar que Python tiene la capacidad de retornar multiples valores, lo que permite hacer una multiple asignación de valores donde la función ha sido llamada.\n"
   ]
  },
  {
   "cell_type": "markdown",
   "metadata": {},
   "source": [
    "\n",
    "# Parámetros Posicionales\n",
    "Este tipo de parámetros no es más que el orden por defecto en que los parámetros son definidos en la función, es el orden en que éstos deben ser colocados en la llamada a la función, a continuación un ejemplo:"
   ]
  },
  {
   "cell_type": "code",
   "execution_count": 1,
   "metadata": {},
   "outputs": [
    {
     "name": "stdout",
     "output_type": "stream",
     "text": [
      "Omar Meza tiene 33 años de edad.\n"
     ]
    }
   ],
   "source": [
    "def informacionPersona(nombre, apellido, edad):\n",
    "\tprint(nombre + \" \" + apellido + \" tiene \" + str(edad) + \" años de edad.\")\n",
    "\n",
    "informacionPersona(\"Omar\", \"Meza\", 33)"
   ]
  },
  {
   "cell_type": "markdown",
   "metadata": {},
   "source": [
    "\n",
    "# Parámetros Nombrados:\n",
    "Conocidos también como parámetros keyword.  Es la capacidad de poder llamar a una función sin importar el orden de los parámetros, sin embargo, tiene que indicarse explicitamente el nombre de los parámetros dentro de la llamada a la función, a continuación un ejemplo utilizando la misma función de los parámetros posicionales:\n"
   ]
  },
  {
   "cell_type": "code",
   "execution_count": 4,
   "metadata": {},
   "outputs": [
    {
     "name": "stdout",
     "output_type": "stream",
     "text": [
      "Juan Perez tiene 42 años de edad.\n"
     ]
    }
   ],
   "source": [
    "informacionPersona(edad=42, nombre=\"Juan\", apellido=\"Perez\")"
   ]
  },
  {
   "cell_type": "markdown",
   "metadata": {},
   "source": [
    "# Retorno de múltiples valores:\n",
    "Python ofrece la capacidad para retornar más de 1 valor desde una función, es decir, después de todas las operaciones realizadas dentro de la función, podríamos retornar 1 o más valores hacia donde la función fue llamada, a continuación se muestra un ejemplo que recibe como parametros 2 números y retorna la suma, resta y multiplicación de ambos:"
   ]
  },
  {
   "cell_type": "code",
   "execution_count": 5,
   "metadata": {},
   "outputs": [
    {
     "name": "stdout",
     "output_type": "stream",
     "text": [
      "La suma es: 55, la resta es: -35, la multiplicación es: 450\n"
     ]
    }
   ],
   "source": [
    "def realizarOperacion(n1, n2):\n",
    "\tsuma=n1+n2\n",
    "\tresta=n1-n2\n",
    "\tmulti=n1*n2\n",
    "\treturn(suma, resta, multi)\n",
    "\n",
    "s, r, m = realizarOperacion(10, 45)\n",
    "print(\"La suma es: \", s, \", la resta es: \", r, \", la multiplicación es: \", m, sep=\"\")"
   ]
  },
  {
   "cell_type": "markdown",
   "metadata": {},
   "source": [
    "\n",
    "# Funciones como Objetos y Parámetros de otras funciones\n",
    "En general en Python todos los datos son almacenados como objetos y las funciones no son la excepción, es por ello que al igual que un objeto, una función puede ser enviada como parámetro para otra función, a continuación se muestra un ejemplo con una función llamada **cuadrado**, otra función llamada **operar** la cual recibe como parámetro el nombre de una función y los argumentos a utilizar en la función parámetro."
   ]
  },
  {
   "cell_type": "code",
   "execution_count": 19,
   "metadata": {},
   "outputs": [],
   "source": [
    "def cuadrado(n):\n",
    "    return n**2\n",
    "\n",
    "def operar(func, *args):\n",
    "    for n in args:\n",
    "        print(func(n))"
   ]
  },
  {
   "cell_type": "code",
   "execution_count": 18,
   "metadata": {},
   "outputs": [
    {
     "name": "stdout",
     "output_type": "stream",
     "text": [
      "1\n",
      "4\n",
      "9\n",
      "16\n",
      "25\n"
     ]
    }
   ],
   "source": [
    "operar(cuadrado,1, 2, 3, 4, 5)"
   ]
  },
  {
   "cell_type": "markdown",
   "metadata": {},
   "source": [
    "# Funciones Lambda\n",
    "Es una forma de crear funciones anónimas (sin nombre).  Sirve para la creación de funciones sobre la marcha (Just in time), con prototipos ligeros que requieren una simple operación.  \n",
    "\n",
    "Tal es el ejemplo que se muestra, donde se define una funcion **imprimir**, la cual recibirá una lista de valores y una función, como parámetros.  Después se manda llamar la función imprimir, enviándole una función Lambda con una operación simple para cada uno de los 3 casos, listar números pares, listar números impares y listar números mayores a 5."
   ]
  },
  {
   "cell_type": "code",
   "execution_count": 1,
   "metadata": {},
   "outputs": [
    {
     "name": "stdout",
     "output_type": "stream",
     "text": [
      "Pares:\n",
      "2\n",
      "4\n",
      "6\n",
      "8\n",
      "Impares:\n",
      "1\n",
      "3\n",
      "5\n",
      "7\n",
      "9\n",
      "Mayores a 5:\n",
      "6\n",
      "7\n",
      "8\n",
      "9\n"
     ]
    }
   ],
   "source": [
    "def imprimir(lista, func):\n",
    "    for val in lista:\n",
    "        if func(val):\n",
    "            print(val)\n",
    "\n",
    "lista=[1,2,3,4,5,6,7,8,9]\n",
    "#Imprimir si valores en la lista son pares\n",
    "print(\"Pares:\")\n",
    "imprimir(lista, lambda x: x%2==0)\n",
    "#Imprimir si valores en la lista son impares\n",
    "print(\"Impares:\")\n",
    "imprimir(lista, lambda x: x%2==1)\n",
    "#Imprimir si valores en la lista son mayores a 5\n",
    "print(\"Mayores a 5:\")\n",
    "imprimir(lista, lambda x: x>5)"
   ]
  },
  {
   "cell_type": "markdown",
   "metadata": {},
   "source": [
    "# Fuentes consultadas\n",
    "\n",
    "http://pythonscouts.cubava.cu/2018/02/27/funciones-en-python/\n",
    "\n",
    "http://elclubdelautodidacta.es/wp/2012/04/python-capitulo-32-funciones-que-devuelven-varios-valores/\n",
    "\n",
    "http://docs.python.org.ar/tutorial/3/classes.html\n",
    "\n",
    "https://docs.python.org/3.3/\n"
   ]
  },
  {
   "cell_type": "code",
   "execution_count": null,
   "metadata": {},
   "outputs": [],
   "source": []
  }
 ],
 "metadata": {
  "kernelspec": {
   "display_name": "Python 3",
   "language": "python",
   "name": "python3"
  },
  "language_info": {
   "codemirror_mode": {
    "name": "ipython",
    "version": 3
   },
   "file_extension": ".py",
   "mimetype": "text/x-python",
   "name": "python",
   "nbconvert_exporter": "python",
   "pygments_lexer": "ipython3",
   "version": "3.7.2"
  }
 },
 "nbformat": 4,
 "nbformat_minor": 2
}
