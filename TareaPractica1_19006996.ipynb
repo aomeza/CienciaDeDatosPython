{
 "cells": [
  {
   "cell_type": "code",
   "execution_count": 3,
   "metadata": {},
   "outputs": [],
   "source": [
    "import tensorflow as tf \n",
    "import numpy as np \n",
    "import matplotlib.pyplot as plt "
   ]
  },
  {
   "cell_type": "code",
   "execution_count": 75,
   "metadata": {},
   "outputs": [],
   "source": [
    "# Leer archivo de entrada\n",
    "file = np.load('C:\\python\\proyecto_training_data.npy', mmap_mode='r')   \n",
    "train_X = file[0:1168,1]\n",
    "train_y = file[0:1168,0]"
   ]
  },
  {
   "cell_type": "code",
   "execution_count": 148,
   "metadata": {},
   "outputs": [],
   "source": [
    "grafo = tf.Graph()\n",
    "with grafo.as_default():\n",
    "    # Get the data from file, y=column 0. X=column 1.\n",
    "    #train_X = tf.constant(file[:,1])\n",
    "    #train_y = tf.constant(file[:,0])\n",
    "    \n",
    "    X = tf.placeholder(tf.float32) \n",
    "    y = tf.placeholder(tf.float32) \n",
    "    lr = tf.placeholder(tf.float32)\n",
    "    \n",
    "    # Definir pesos de las variables para pendiente e intercepto\n",
    "    W = tf.Variable(np.random.randn(), name=\"W\")\n",
    "    b = tf.Variable(np.random.randn(), name=\"b\")\n",
    "    \n",
    "    # Definir modelo lineal\n",
    "    linear_model = W*X + b \n",
    "\n",
    "    # Funcion de costo: SUM((y-y_hat)^2)/(2*n)\n",
    "    n = train_X.shape[0]\n",
    "    cost = tf.reduce_mean(tf.pow(linear_model - y,2)/2) \n",
    "    \n",
    "    # summary para el gradient descent\n",
    "    with tf.name_scope(\"Gradient_Des.Optimizer\"):\n",
    "        cost_summary=tf.summary.scalar(\"cost\", tf.reduce_max(cost))\n",
    "    \n",
    "    write_op = tf.summary.merge_all()\n",
    "    \n",
    "    # Optimización con Gradient descent \n",
    "    optimizer = tf.train.GradientDescentOptimizer(lr).minimize(cost)\n",
    "    \n",
    "    # Inicialización de variables \n",
    "    init = tf.global_variables_initializer()"
   ]
  },
  {
   "cell_type": "code",
   "execution_count": 164,
   "metadata": {},
   "outputs": [],
   "source": [
    "def runSession(learning_rate):\n",
    "    training_epochs=50000\n",
    "    display_step = 5000\n",
    "    with tf.Session(graph=grafo) as sess: \n",
    "            # Load initialized variables in current session \n",
    "            sess.run(init) \n",
    "\n",
    "            # indicar el archivo que se utilizará de tensorboard\n",
    "            writer = tf.summary.FileWriter('./graphs/lr='+str(learning_rate), sess.graph)    #'./grafos', session.graph)\n",
    "\n",
    "            # Fit all training data \n",
    "            for epoch in range(training_epochs): \n",
    "\n",
    "                # perform gradient descent step \n",
    "                sess.run(optimizer, feed_dict={X: train_X, y: train_y, lr: learning_rate}) \n",
    "\n",
    "                # Display logs per epoch step \n",
    "                if (epoch+1) % display_step == 0: \n",
    "                    c = sess.run(cost, feed_dict={X: train_X, y: train_y, lr:learning_rate}) \n",
    "                    #writer.add_summary(cost, epoch)\n",
    "                    print(\"Epoch:{0:6} \\t Cost:{1:10.4} \\t W:{2:6.4} \\t b:{3:6.4}\". \n",
    "                      format(epoch+1, c, sess.run(W), sess.run(b)))\n",
    "                    summary = sess.run(write_op, {X: train_X, y: train_y, lr: learning_rate})\n",
    "                    writer.add_summary(summary, epoch)\n",
    "                    writer.flush()\n",
    "            writer.close()"
   ]
  },
  {
   "cell_type": "code",
   "execution_count": 165,
   "metadata": {},
   "outputs": [
    {
     "name": "stdout",
     "output_type": "stream",
     "text": [
      "Epoch:  5000 \t Cost:       nan \t W:   nan \t b:   nan\n",
      "Epoch: 10000 \t Cost:       nan \t W:   nan \t b:   nan\n",
      "Epoch: 15000 \t Cost:       nan \t W:   nan \t b:   nan\n",
      "Epoch: 20000 \t Cost:       nan \t W:   nan \t b:   nan\n",
      "Epoch: 25000 \t Cost:       nan \t W:   nan \t b:   nan\n",
      "Epoch: 30000 \t Cost:       nan \t W:   nan \t b:   nan\n",
      "Epoch: 35000 \t Cost:       nan \t W:   nan \t b:   nan\n",
      "Epoch: 40000 \t Cost:       nan \t W:   nan \t b:   nan\n",
      "Epoch: 45000 \t Cost:       nan \t W:   nan \t b:   nan\n",
      "Epoch: 50000 \t Cost:       nan \t W:   nan \t b:   nan\n"
     ]
    }
   ],
   "source": [
    "runSession(1)"
   ]
  },
  {
   "cell_type": "code",
   "execution_count": 172,
   "metadata": {},
   "outputs": [
    {
     "name": "stdout",
     "output_type": "stream",
     "text": [
      "Epoch:  5000 \t Cost:       nan \t W:   nan \t b:   nan\n",
      "Epoch: 10000 \t Cost:       nan \t W:   nan \t b:   nan\n",
      "Epoch: 15000 \t Cost:       nan \t W:   nan \t b:   nan\n",
      "Epoch: 20000 \t Cost:       nan \t W:   nan \t b:   nan\n",
      "Epoch: 25000 \t Cost:       nan \t W:   nan \t b:   nan\n",
      "Epoch: 30000 \t Cost:       nan \t W:   nan \t b:   nan\n",
      "Epoch: 35000 \t Cost:       nan \t W:   nan \t b:   nan\n",
      "Epoch: 40000 \t Cost:       nan \t W:   nan \t b:   nan\n",
      "Epoch: 45000 \t Cost:       nan \t W:   nan \t b:   nan\n",
      "Epoch: 50000 \t Cost:       nan \t W:   nan \t b:   nan\n"
     ]
    }
   ],
   "source": [
    "runSession(0.1)"
   ]
  },
  {
   "cell_type": "code",
   "execution_count": 168,
   "metadata": {},
   "outputs": [
    {
     "name": "stdout",
     "output_type": "stream",
     "text": [
      "Epoch:  5000 \t Cost: 1.149e+09 \t W:4.393e+04 \t b:-8.7e+04\n",
      "Epoch: 10000 \t Cost: 1.147e+09 \t W:4.527e+04 \t b:-9.558e+04\n",
      "Epoch: 15000 \t Cost: 1.147e+09 \t W:4.54e+04 \t b:-9.639e+04\n",
      "Epoch: 20000 \t Cost: 1.147e+09 \t W:4.541e+04 \t b:-9.646e+04\n",
      "Epoch: 25000 \t Cost: 1.147e+09 \t W:4.541e+04 \t b:-9.646e+04\n",
      "Epoch: 30000 \t Cost: 1.147e+09 \t W:4.541e+04 \t b:-9.646e+04\n",
      "Epoch: 35000 \t Cost: 1.147e+09 \t W:4.541e+04 \t b:-9.646e+04\n",
      "Epoch: 40000 \t Cost: 1.147e+09 \t W:4.541e+04 \t b:-9.646e+04\n",
      "Epoch: 45000 \t Cost: 1.147e+09 \t W:4.541e+04 \t b:-9.646e+04\n",
      "Epoch: 50000 \t Cost: 1.147e+09 \t W:4.541e+04 \t b:-9.646e+04\n"
     ]
    }
   ],
   "source": [
    "runSession(0.01)"
   ]
  },
  {
   "cell_type": "code",
   "execution_count": 169,
   "metadata": {},
   "outputs": [
    {
     "name": "stdout",
     "output_type": "stream",
     "text": [
      "Epoch:  5000 \t Cost: 1.301e+09 \t W:3.295e+04 \t b:-1.668e+04\n",
      "Epoch: 10000 \t Cost: 1.243e+09 \t W:3.558e+04 \t b:-3.35e+04\n",
      "Epoch: 15000 \t Cost: 1.207e+09 \t W:3.765e+04 \t b:-4.678e+04\n",
      "Epoch: 20000 \t Cost: 1.184e+09 \t W:3.929e+04 \t b:-5.725e+04\n",
      "Epoch: 25000 \t Cost:  1.17e+09 \t W:4.058e+04 \t b:-6.552e+04\n",
      "Epoch: 30000 \t Cost: 1.161e+09 \t W:4.16e+04 \t b:-7.204e+04\n",
      "Epoch: 35000 \t Cost: 1.156e+09 \t W:4.24e+04 \t b:-7.719e+04\n",
      "Epoch: 40000 \t Cost: 1.153e+09 \t W:4.304e+04 \t b:-8.125e+04\n",
      "Epoch: 45000 \t Cost:  1.15e+09 \t W:4.354e+04 \t b:-8.446e+04\n",
      "Epoch: 50000 \t Cost: 1.149e+09 \t W:4.393e+04 \t b:-8.699e+04\n"
     ]
    }
   ],
   "source": [
    "runSession(0.001)"
   ]
  },
  {
   "cell_type": "code",
   "execution_count": 170,
   "metadata": {},
   "outputs": [
    {
     "name": "stdout",
     "output_type": "stream",
     "text": [
      "Epoch:  5000 \t Cost: 1.383e+09 \t W: 3e+04 \t b:2.263e+03\n",
      "Epoch: 10000 \t Cost: 1.372e+09 \t W:3.036e+04 \t b:-46.64\n",
      "Epoch: 15000 \t Cost: 1.362e+09 \t W:3.071e+04 \t b:-2.302e+03\n",
      "Epoch: 20000 \t Cost: 1.352e+09 \t W:3.105e+04 \t b:-4.505e+03\n",
      "Epoch: 25000 \t Cost: 1.343e+09 \t W:3.139e+04 \t b:-6.656e+03\n",
      "Epoch: 30000 \t Cost: 1.333e+09 \t W:3.172e+04 \t b:-8.758e+03\n",
      "Epoch: 35000 \t Cost: 1.325e+09 \t W:3.204e+04 \t b:-1.081e+04\n",
      "Epoch: 40000 \t Cost: 1.317e+09 \t W:3.235e+04 \t b:-1.281e+04\n",
      "Epoch: 45000 \t Cost: 1.309e+09 \t W:3.265e+04 \t b:-1.477e+04\n",
      "Epoch: 50000 \t Cost: 1.301e+09 \t W:3.295e+04 \t b:-1.668e+04\n"
     ]
    }
   ],
   "source": [
    "runSession(0.0001)"
   ]
  },
  {
   "cell_type": "code",
   "execution_count": 171,
   "metadata": {},
   "outputs": [
    {
     "name": "stdout",
     "output_type": "stream",
     "text": [
      "Epoch:  5000 \t Cost: 1.721e+09 \t W:2.567e+04 \t b:3.766e+03\n",
      "Epoch: 10000 \t Cost: 1.398e+09 \t W:2.916e+04 \t b:4.067e+03\n",
      "Epoch: 15000 \t Cost: 1.391e+09 \t W:2.967e+04 \t b:3.901e+03\n",
      "Epoch: 20000 \t Cost:  1.39e+09 \t W:2.976e+04 \t b:3.674e+03\n",
      "Epoch: 25000 \t Cost: 1.389e+09 \t W:2.981e+04 \t b:3.439e+03\n",
      "Epoch: 30000 \t Cost: 1.388e+09 \t W:2.985e+04 \t b:3.203e+03\n",
      "Epoch: 35000 \t Cost: 1.387e+09 \t W:2.989e+04 \t b:2.967e+03\n",
      "Epoch: 40000 \t Cost: 1.386e+09 \t W:2.992e+04 \t b:2.732e+03\n",
      "Epoch: 45000 \t Cost: 1.384e+09 \t W:2.996e+04 \t b:2.497e+03\n",
      "Epoch: 50000 \t Cost: 1.383e+09 \t W: 3e+04 \t b:2.263e+03\n"
     ]
    }
   ],
   "source": [
    "runSession(0.00001)"
   ]
  },
  {
   "cell_type": "raw",
   "metadata": {},
   "source": [
    "PATH = \"C:\\Users\\30177710\\Documents\\Data Science - U\\Statistical Learning\\\"\n",
    "Image(filename = PATH + \"Grafo.jpg\", width=100, height=100)"
   ]
  }
 ],
 "metadata": {
  "kernelspec": {
   "display_name": "Python 3",
   "language": "python",
   "name": "python3"
  },
  "language_info": {
   "codemirror_mode": {
    "name": "ipython",
    "version": 3
   },
   "file_extension": ".py",
   "mimetype": "text/x-python",
   "name": "python",
   "nbconvert_exporter": "python",
   "pygments_lexer": "ipython3",
   "version": "3.7.3"
  }
 },
 "nbformat": 4,
 "nbformat_minor": 2
}
