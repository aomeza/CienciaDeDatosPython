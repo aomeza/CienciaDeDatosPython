{
 "cells": [
  {
   "cell_type": "code",
   "execution_count": 72,
   "metadata": {},
   "outputs": [],
   "source": [
    "import numpy as np\n",
    "import pandas as pd\n",
    "import csv"
   ]
  },
  {
   "cell_type": "code",
   "execution_count": 73,
   "metadata": {},
   "outputs": [],
   "source": [
    "df = pd.read_csv(\"data.csv\")"
   ]
  },
  {
   "cell_type": "code",
   "execution_count": 85,
   "metadata": {},
   "outputs": [],
   "source": [
    "df_train = df#df[0:160][:]\n",
    "#df_validate = df[161:180][:]\n",
    "#df_test = df[181:200][:]"
   ]
  },
  {
   "cell_type": "code",
   "execution_count": 86,
   "metadata": {},
   "outputs": [
    {
     "data": {
      "text/html": [
       "<div>\n",
       "<style scoped>\n",
       "    .dataframe tbody tr th:only-of-type {\n",
       "        vertical-align: middle;\n",
       "    }\n",
       "\n",
       "    .dataframe tbody tr th {\n",
       "        vertical-align: top;\n",
       "    }\n",
       "\n",
       "    .dataframe thead th {\n",
       "        text-align: right;\n",
       "    }\n",
       "</style>\n",
       "<table border=\"1\" class=\"dataframe\">\n",
       "  <thead>\n",
       "    <tr style=\"text-align: right;\">\n",
       "      <th></th>\n",
       "      <th>x1</th>\n",
       "      <th>x2</th>\n",
       "      <th>label</th>\n",
       "    </tr>\n",
       "  </thead>\n",
       "  <tbody>\n",
       "    <tr>\n",
       "      <th>0</th>\n",
       "      <td>12.882292</td>\n",
       "      <td>10.228199</td>\n",
       "      <td>1</td>\n",
       "    </tr>\n",
       "    <tr>\n",
       "      <th>1</th>\n",
       "      <td>12.682271</td>\n",
       "      <td>9.360462</td>\n",
       "      <td>1</td>\n",
       "    </tr>\n",
       "    <tr>\n",
       "      <th>2</th>\n",
       "      <td>12.104981</td>\n",
       "      <td>10.580729</td>\n",
       "      <td>1</td>\n",
       "    </tr>\n",
       "    <tr>\n",
       "      <th>3</th>\n",
       "      <td>12.473947</td>\n",
       "      <td>10.993459</td>\n",
       "      <td>1</td>\n",
       "    </tr>\n",
       "    <tr>\n",
       "      <th>4</th>\n",
       "      <td>11.997386</td>\n",
       "      <td>9.321291</td>\n",
       "      <td>1</td>\n",
       "    </tr>\n",
       "  </tbody>\n",
       "</table>\n",
       "</div>"
      ],
      "text/plain": [
       "          x1         x2  label\n",
       "0  12.882292  10.228199      1\n",
       "1  12.682271   9.360462      1\n",
       "2  12.104981  10.580729      1\n",
       "3  12.473947  10.993459      1\n",
       "4  11.997386   9.321291      1"
      ]
     },
     "execution_count": 86,
     "metadata": {},
     "output_type": "execute_result"
    }
   ],
   "source": [
    "df_train.head()"
   ]
  },
  {
   "cell_type": "code",
   "execution_count": 88,
   "metadata": {},
   "outputs": [],
   "source": [
    "# Exclude label column from X, keep first column to handle bias\n",
    "X[:,1:] = np.array(df.loc[:, df.columns != 'label'])\n",
    "Y = np.array(df.loc[:, df.columns == 'label'])"
   ]
  },
  {
   "cell_type": "code",
   "execution_count": null,
   "metadata": {},
   "outputs": [],
   "source": []
  },
  {
   "cell_type": "code",
   "execution_count": 89,
   "metadata": {},
   "outputs": [
    {
     "name": "stdout",
     "output_type": "stream",
     "text": [
      "The perceptron training converged in 15018 iterations.\n",
      "\n",
      "\n",
      "The model is:\n",
      "\n",
      "W1= [22.80483716]\n",
      "W2= [-13.65666286]\n",
      "Bias= [-95.37362556]\n"
     ]
    }
   ],
   "source": [
    "# Initialize weights randomly based on the number of columns \n",
    "# We take the total number of columns (even Y) to have a weight for Bias\n",
    "\n",
    "W = np.random.rand(1, X.shape[1])\n",
    "lr = 0.5\n",
    "i=0\n",
    "converged = False\n",
    "\n",
    "# Entrenamiento de perceptrón\n",
    "\n",
    "while(converged == False):\n",
    "    i+=1\n",
    "    index = int(np.random.rand(1) * X.shape[0])\n",
    "    x = X[index]\n",
    "    label = df['label'][index]\n",
    "\n",
    "    wx = np.dot(x,W.T)\n",
    "\n",
    "    if label == 1 and wx < 0:\n",
    "        W = W + x * lr\n",
    "\n",
    "    if label == 0 and wx >= 0:\n",
    "        W = W - x * lr\n",
    "\n",
    "    # Make a dot product to know which results are 1/0\n",
    "    result = np.dot(X,W.T)        \n",
    "    result[result>=0] = 1\n",
    "    result[result<0] = 0\n",
    "\n",
    "    # assign to h the boolean comparisson of real Y with results (y_hat)\n",
    "    h = (Y == result)\n",
    "    \n",
    "    # verify if all are True, if so, it converged\n",
    "    if np.min(h) == True:\n",
    "        print(\"The perceptron training converged in\", i,\"iterations.\")\n",
    "        print(\"\\n\\nThe model is:\")\n",
    "        print(\"\\nW1=\", W[:,1])\n",
    "        print(\"W2=\", W[:,2])\n",
    "        print(\"Bias=\", W[:,0])\n",
    "        converged = True\n",
    "        break"
   ]
  },
  {
   "cell_type": "code",
   "execution_count": null,
   "metadata": {},
   "outputs": [],
   "source": []
  }
 ],
 "metadata": {
  "kernelspec": {
   "display_name": "Python 3",
   "language": "python",
   "name": "python3"
  },
  "language_info": {
   "codemirror_mode": {
    "name": "ipython",
    "version": 3
   },
   "file_extension": ".py",
   "mimetype": "text/x-python",
   "name": "python",
   "nbconvert_exporter": "python",
   "pygments_lexer": "ipython3",
   "version": "3.7.3"
  }
 },
 "nbformat": 4,
 "nbformat_minor": 2
}
