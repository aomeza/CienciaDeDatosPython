{
 "cells": [
  {
   "cell_type": "markdown",
   "metadata": {},
   "source": [
    "# Proyección Vectorial\n",
    "Es la proyección que un vector tiene sobre otro, gráficamente esta se muestra al trazar una línea perpendicular que sale del vector sobre el cual se está proyectando, hasta tocar la punta del vector que realiza la proyección.  Se puede ver como la sombra de un vector sobre otro.\n",
    "\n",
    "En la siguiente imagen puede observarse la proyección del vector a sobre el vector b\n",
    "\n",
    "<img src=\"http://4.bp.blogspot.com/-hNxDRB2QBig/Tikqi5MSfoI/AAAAAAAAANk/9nGr11vsqTk/s1600/proy.png\">"
   ]
  },
  {
   "cell_type": "markdown",
   "metadata": {},
   "source": [
    "# Función que calcula la proyección de un vector sobre otro vector"
   ]
  },
  {
   "cell_type": "code",
   "execution_count": 13,
   "metadata": {},
   "outputs": [
    {
     "name": "stdout",
     "output_type": "stream",
     "text": [
      "[ 0.27272727 -0.09090909  0.09090909]\n"
     ]
    }
   ],
   "source": [
    "import numpy as np\n",
    "\n",
    "def calcular_proyeccion(u, v):\n",
    "    numerador = np.dot(u,v)\n",
    "    denominador = np.sum(np.power(v,2))\n",
    "    return numerador * v / denominador\n",
    "\n",
    "u=np.array([1,4,2])\n",
    "v=np.array([3,-1,1])\n",
    "print(calcular_proyeccion(u, v))"
   ]
  },
  {
   "cell_type": "code",
   "execution_count": null,
   "metadata": {},
   "outputs": [],
   "source": [
    "##  No logré avanzar más...\n"
   ]
  },
  {
   "cell_type": "markdown",
   "metadata": {},
   "source": [
    "# Referencias\n",
    "https://prezi.com/hfxi9-z3gopq/proyeccion-de-vectores/\n",
    "\n",
    "http://www.numpy.org/devdocs/user/c-info.ufunc-tutorial.html\n",
    "\n",
    "https://www.youtube.com/watch?v=-nuWKbJJ09Q"
   ]
  },
  {
   "cell_type": "code",
   "execution_count": null,
   "metadata": {},
   "outputs": [],
   "source": []
  }
 ],
 "metadata": {
  "kernelspec": {
   "display_name": "Python 3",
   "language": "python",
   "name": "python3"
  },
  "language_info": {
   "codemirror_mode": {
    "name": "ipython",
    "version": 3
   },
   "file_extension": ".py",
   "mimetype": "text/x-python",
   "name": "python",
   "nbconvert_exporter": "python",
   "pygments_lexer": "ipython3",
   "version": "3.7.2"
  }
 },
 "nbformat": 4,
 "nbformat_minor": 2
}
